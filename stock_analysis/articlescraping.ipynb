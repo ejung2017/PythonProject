{
 "cells": [
  {
   "cell_type": "code",
   "execution_count": 1,
   "id": "bf543696",
   "metadata": {},
   "outputs": [],
   "source": [
    "from selenium import webdriver\n",
    "from selenium.webdriver.chrome.service import Service\n",
    "from selenium.webdriver.chrome.options import Options\n",
    "from selenium.webdriver.common.by import By\n",
    "from selenium.common.exceptions import NoSuchElementException\n",
    "import pandas as pd\n",
    "import time\n",
    "\n",
    "driver_path = \"/usr/local/bin/chromedriver\"\n",
    "\n",
    "# Chrome Driver setup \n",
    "service = Service(driver_path)\n",
    "options = Options()\n",
    "options.add_argument(\"--start-maximized\")\n",
    "options.add_argument(\"user-agent=Mozilla/5.0 (Macintosh; Intel Mac OS X 10_15_7) AppleWebKit/537.36 Chrome/120 Safari/537.36\")"
   ]
  },
  {
   "cell_type": "code",
   "execution_count": 22,
   "id": "26a8b01f",
   "metadata": {},
   "outputs": [],
   "source": [
    "url_the_japan_times = \"https://www.google.com/search?as_q=Japan+interest+rate&as_epq=&as_oq=&as_eq=&as_nlo=&as_nhi=&lr=&cr=&as_qdr=all&as_sitesearch=https%3A%2F%2Fwww.japantimes.co.jp%2F&as_occt=any&as_filetype=&tbs=\"\n",
    "\n",
    "driver = webdriver.Chrome(service=service, options=options)\n",
    "driver.get(url_the_japan_times)\n",
    "time.sleep(10)"
   ]
  },
  {
   "cell_type": "code",
   "execution_count": 23,
   "id": "939596ad",
   "metadata": {},
   "outputs": [],
   "source": [
    "article_button = driver.find_element(By.CSS_SELECTOR, \"a.zReHs\") #h3.LC20lb.MBeuO.DKV0Md\n",
    "article_button.click()\n",
    "time.sleep(10)"
   ]
  },
  {
   "cell_type": "code",
   "execution_count": null,
   "id": "87df995b",
   "metadata": {},
   "outputs": [
    {
     "data": {
      "text/plain": [
       "['The Bank of Japan’s rate hike cycle will resume after \"only” a temporary pause, policy board member Hajime Takata warned, keeping his hawkish tone even after U.S. President Donald Trump clouded the economic outlook by threatening to impose tariffs on Japanese goods higher than those previously touted.',\n",
       " '\"I believe that the bank is currently only pausing its policy interest rate hike cycle and should continue to make a gear shift after a certain period of ‘wait and see,’” Takata said Thursday in a speech to local business leaders in Mie Prefecture.',\n",
       " '',\n",
       " 'Takata’s remarks made it clear that the BOJ is continuing to look for further opportunities to raise rates even after the prospects for a trade deal with the U.S. appeared to recede after Trump floated the idea of increasing tariffs to 35%, compared with a previous plan to hike an across-the-board duty to 24% starting next week.',\n",
       " 'Takata, considered a hawkish member of the central bank\\'s board, said authorities \"may need to nimbly shift back to the rate hike cycle in response to policy changes” in the U.S. His remarks indicate there’s still a chance of another hike this year depending on the effects of the levies.',\n",
       " 'Given high uncertainties regarding U.S. policies, \"the bank is required to conduct monetary policy in a more flexible manner without being too pessimistic,” he said.',\n",
       " 'Takata was speaking as Japan’s pace of inflation has stayed elevated at the highest level among Group of Seven major industrial nations. A key measure for the cost of living hit a fresh two-year high in May, and a record of the BOJ’s meeting last month reflected a shared awareness among officials that price growth is a little stronger than expected.',\n",
       " '\"Japan’s economy is at a stage where the price stability target is close to being achieved,” Takata said. \"The key to a further gear shift in monetary policy is the sustainability of positive corporate behavior.”',\n",
       " 'BOJ Gov. Kazuo Ueda has repeatedly said underlying inflation remains below the bank’s 2% target and he wants to see the trend rise before raising rates again. He also wants to confirm the likely magnitude of the economic impact from U.S. trade policies.',\n",
       " 'In previous speeches, Takata, a veteran economist and former bond analyst, has noted the need to raise borrowing costs as economic activity improves. Remarks of that nature in the weeks running up to the BOJ’s historic end of its massive monetary easing program in March 2024 helped investors prepare for the coming shift.',\n",
       " '\"Even if the economy remains robust at the moment, the longer concerns about tariffs remain, the greater the downward pressure on economic activity could become,” Takata said Thursday.',\n",
       " 'The BOJ will deliver its next policy decision on July 31, with more than 90% of BOJ watchers surveyed last month expecting the benchmark rate to be left at 0.5%.']"
      ]
     },
     "execution_count": 13,
     "metadata": {},
     "output_type": "execute_result"
    }
   ],
   "source": [
    "div_element = driver.find_element(By.XPATH, \"//div[@class='article-body']\")\n",
    "article_body = div_element.find_elements(By.TAG_NAME, \"p\")\n",
    "\n",
    "the_japan_times = []\n",
    "content_list = []\n",
    "\n",
    "# date\n",
    "date = driver.find_element(By.CSS_SELECTOR, \"div.publish-date\").text\n",
    "the_japan_times.append({\n",
    "    \"date\": date,\n",
    "    \"content\": []\n",
    "})\n",
    "for item in article_body: \n",
    "    try: \n",
    "        # paragraphs \n",
    "        paragraph = item.text\n",
    "        content_list.append(paragraph)\n",
    "        # the_japan_times[\"content\"].append(paragraph)\n",
    "\n",
    "    except Exception as e:\n",
    "        print(f\"Error extracting data: {e}\")\n",
    "        break \n",
    "\n",
    "content_list"
   ]
  },
  {
   "cell_type": "code",
   "execution_count": 18,
   "id": "9ca94bda",
   "metadata": {},
   "outputs": [
    {
     "data": {
      "text/plain": [
       "'The Bank of Japan’s rate hike cycle will resume after \"only” a temporary pause, policy board member Hajime Takata warned, keeping his hawkish tone even after U.S. President Donald Trump clouded the economic outlook by threatening to impose tariffs on Japanese goods higher than those previously touted. \"I believe that the bank is currently only pausing its policy interest rate hike cycle and should continue to make a gear shift after a certain period of ‘wait and see,’” Takata said Thursday in a speech to local business leaders in Mie Prefecture.  Takata’s remarks made it clear that the BOJ is continuing to look for further opportunities to raise rates even after the prospects for a trade deal with the U.S. appeared to recede after Trump floated the idea of increasing tariffs to 35%, compared with a previous plan to hike an across-the-board duty to 24% starting next week. Takata, considered a hawkish member of the central bank\\'s board, said authorities \"may need to nimbly shift back to the rate hike cycle in response to policy changes” in the U.S. His remarks indicate there’s still a chance of another hike this year depending on the effects of the levies. Given high uncertainties regarding U.S. policies, \"the bank is required to conduct monetary policy in a more flexible manner without being too pessimistic,” he said. Takata was speaking as Japan’s pace of inflation has stayed elevated at the highest level among Group of Seven major industrial nations. A key measure for the cost of living hit a fresh two-year high in May, and a record of the BOJ’s meeting last month reflected a shared awareness among officials that price growth is a little stronger than expected. \"Japan’s economy is at a stage where the price stability target is close to being achieved,” Takata said. \"The key to a further gear shift in monetary policy is the sustainability of positive corporate behavior.” BOJ Gov. Kazuo Ueda has repeatedly said underlying inflation remains below the bank’s 2% target and he wants to see the trend rise before raising rates again. He also wants to confirm the likely magnitude of the economic impact from U.S. trade policies. In previous speeches, Takata, a veteran economist and former bond analyst, has noted the need to raise borrowing costs as economic activity improves. Remarks of that nature in the weeks running up to the BOJ’s historic end of its massive monetary easing program in March 2024 helped investors prepare for the coming shift. \"Even if the economy remains robust at the moment, the longer concerns about tariffs remain, the greater the downward pressure on economic activity could become,” Takata said Thursday. The BOJ will deliver its next policy decision on July 31, with more than 90% of BOJ watchers surveyed last month expecting the benchmark rate to be left at 0.5%.'"
      ]
     },
     "execution_count": 18,
     "metadata": {},
     "output_type": "execute_result"
    }
   ],
   "source": [
    "content = \" \".join(content_list)\n",
    "content"
   ]
  },
  {
   "cell_type": "code",
   "execution_count": 19,
   "id": "33cc3500",
   "metadata": {},
   "outputs": [
    {
     "data": {
      "text/plain": [
       "[{'date': 'Jul 3, 2025',\n",
       "  'content': 'The Bank of Japan’s rate hike cycle will resume after \"only” a temporary pause, policy board member Hajime Takata warned, keeping his hawkish tone even after U.S. President Donald Trump clouded the economic outlook by threatening to impose tariffs on Japanese goods higher than those previously touted. \"I believe that the bank is currently only pausing its policy interest rate hike cycle and should continue to make a gear shift after a certain period of ‘wait and see,’” Takata said Thursday in a speech to local business leaders in Mie Prefecture.  Takata’s remarks made it clear that the BOJ is continuing to look for further opportunities to raise rates even after the prospects for a trade deal with the U.S. appeared to recede after Trump floated the idea of increasing tariffs to 35%, compared with a previous plan to hike an across-the-board duty to 24% starting next week. Takata, considered a hawkish member of the central bank\\'s board, said authorities \"may need to nimbly shift back to the rate hike cycle in response to policy changes” in the U.S. His remarks indicate there’s still a chance of another hike this year depending on the effects of the levies. Given high uncertainties regarding U.S. policies, \"the bank is required to conduct monetary policy in a more flexible manner without being too pessimistic,” he said. Takata was speaking as Japan’s pace of inflation has stayed elevated at the highest level among Group of Seven major industrial nations. A key measure for the cost of living hit a fresh two-year high in May, and a record of the BOJ’s meeting last month reflected a shared awareness among officials that price growth is a little stronger than expected. \"Japan’s economy is at a stage where the price stability target is close to being achieved,” Takata said. \"The key to a further gear shift in monetary policy is the sustainability of positive corporate behavior.” BOJ Gov. Kazuo Ueda has repeatedly said underlying inflation remains below the bank’s 2% target and he wants to see the trend rise before raising rates again. He also wants to confirm the likely magnitude of the economic impact from U.S. trade policies. In previous speeches, Takata, a veteran economist and former bond analyst, has noted the need to raise borrowing costs as economic activity improves. Remarks of that nature in the weeks running up to the BOJ’s historic end of its massive monetary easing program in March 2024 helped investors prepare for the coming shift. \"Even if the economy remains robust at the moment, the longer concerns about tariffs remain, the greater the downward pressure on economic activity could become,” Takata said Thursday. The BOJ will deliver its next policy decision on July 31, with more than 90% of BOJ watchers surveyed last month expecting the benchmark rate to be left at 0.5%.'}]"
      ]
     },
     "execution_count": 19,
     "metadata": {},
     "output_type": "execute_result"
    }
   ],
   "source": [
    "the_japan_times[0][\"content\"] = content\n",
    "the_japan_times"
   ]
  },
  {
   "cell_type": "code",
   "execution_count": null,
   "id": "af6bd1fa",
   "metadata": {},
   "outputs": [],
   "source": [
    "# go back to previous page (google news list)\n",
    "prev_page = driver.back()\n",
    "time.sleep(5)\n"
   ]
  },
  {
   "cell_type": "code",
   "execution_count": 26,
   "id": "a0fe7fc5",
   "metadata": {},
   "outputs": [],
   "source": [
    "# Converting the results into a DataFrame \n",
    "the_japan_times_df = pd.DataFrame(the_japan_times)\n",
    "\n",
    "# Saving into .csv\n",
    "the_japan_times_df.to_csv(\"the_japan_times_articles.csv\", index=False)"
   ]
  }
 ],
 "metadata": {
  "kernelspec": {
   "display_name": ".venv",
   "language": "python",
   "name": "python3"
  },
  "language_info": {
   "codemirror_mode": {
    "name": "ipython",
    "version": 3
   },
   "file_extension": ".py",
   "mimetype": "text/x-python",
   "name": "python",
   "nbconvert_exporter": "python",
   "pygments_lexer": "ipython3",
   "version": "3.13.0"
  }
 },
 "nbformat": 4,
 "nbformat_minor": 5
}
