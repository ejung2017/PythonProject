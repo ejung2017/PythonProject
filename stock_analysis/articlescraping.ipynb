{
 "cells": [
  {
   "cell_type": "code",
   "execution_count": 1,
   "id": "bf543696",
   "metadata": {},
   "outputs": [],
   "source": [
    "from selenium import webdriver\n",
    "from selenium.webdriver.chrome.service import Service\n",
    "from selenium.webdriver.chrome.options import Options\n",
    "from selenium.webdriver.common.by import By\n",
    "from selenium.common.exceptions import NoSuchElementException\n",
    "import pandas as pd\n",
    "import time\n",
    "\n",
    "driver_path = \"/usr/local/bin/chromedriver\"\n",
    "\n",
    "# Chrome Driver setup \n",
    "service = Service(driver_path)\n",
    "options = Options()\n",
    "options.add_argument(\"--start-maximized\")\n",
    "options.add_argument(\"user-agent=Mozilla/5.0 (Macintosh; Intel Mac OS X 10_15_7) AppleWebKit/537.36 Chrome/120 Safari/537.36\")"
   ]
  },
  {
   "cell_type": "code",
   "execution_count": 32,
   "id": "26a8b01f",
   "metadata": {},
   "outputs": [],
   "source": [
    "url_the_japan_times = \"https://www.google.com/search?as_q=Japan+interest+rate&as_epq=&as_oq=&as_eq=&as_nlo=&as_nhi=&lr=&cr=&as_qdr=all&as_sitesearch=https%3A%2F%2Fwww.japantimes.co.jp%2F&as_occt=any&as_filetype=&tbs=\"\n",
    "\n",
    "driver = webdriver.Chrome(service=service, options=options)\n",
    "driver.get(url_the_japan_times)\n",
    "time.sleep(10)"
   ]
  },
  {
   "cell_type": "code",
   "execution_count": 33,
   "id": "586fa060",
   "metadata": {},
   "outputs": [],
   "source": [
    "article_button = driver.find_element(By.CLASS_NAME, \"zReHs\") #h3.LC20lb.MBeuO.DKV0Md\n",
    "article_button.click()\n",
    "time.sleep(10)"
   ]
  },
  {
   "cell_type": "code",
   "execution_count": 23,
   "id": "939596ad",
   "metadata": {},
   "outputs": [],
   "source": [
    "article_button = driver.find_element(By.CSS_SELECTOR, \"a.zReHs\") #h3.LC20lb.MBeuO.DKV0Md\n",
    "article_button.click()\n",
    "time.sleep(10)"
   ]
  },
  {
   "cell_type": "code",
   "execution_count": null,
   "id": "87df995b",
   "metadata": {},
   "outputs": [
    {
     "data": {
      "text/plain": [
       "['The Bank of Japan’s rate hike cycle will resume after \"only” a temporary pause, policy board member Hajime Takata warned, keeping his hawkish tone even after U.S. President Donald Trump clouded the economic outlook by threatening to impose tariffs on Japanese goods higher than those previously touted.',\n",
       " '\"I believe that the bank is currently only pausing its policy interest rate hike cycle and should continue to make a gear shift after a certain period of ‘wait and see,’” Takata said Thursday in a speech to local business leaders in Mie Prefecture.',\n",
       " '',\n",
       " 'Takata’s remarks made it clear that the BOJ is continuing to look for further opportunities to raise rates even after the prospects for a trade deal with the U.S. appeared to recede after Trump floated the idea of increasing tariffs to 35%, compared with a previous plan to hike an across-the-board duty to 24% starting next week.',\n",
       " 'Takata, considered a hawkish member of the central bank\\'s board, said authorities \"may need to nimbly shift back to the rate hike cycle in response to policy changes” in the U.S. His remarks indicate there’s still a chance of another hike this year depending on the effects of the levies.',\n",
       " 'Given high uncertainties regarding U.S. policies, \"the bank is required to conduct monetary policy in a more flexible manner without being too pessimistic,” he said.',\n",
       " 'Takata was speaking as Japan’s pace of inflation has stayed elevated at the highest level among Group of Seven major industrial nations. A key measure for the cost of living hit a fresh two-year high in May, and a record of the BOJ’s meeting last month reflected a shared awareness among officials that price growth is a little stronger than expected.',\n",
       " '\"Japan’s economy is at a stage where the price stability target is close to being achieved,” Takata said. \"The key to a further gear shift in monetary policy is the sustainability of positive corporate behavior.”',\n",
       " 'BOJ Gov. Kazuo Ueda has repeatedly said underlying inflation remains below the bank’s 2% target and he wants to see the trend rise before raising rates again. He also wants to confirm the likely magnitude of the economic impact from U.S. trade policies.',\n",
       " 'In previous speeches, Takata, a veteran economist and former bond analyst, has noted the need to raise borrowing costs as economic activity improves. Remarks of that nature in the weeks running up to the BOJ’s historic end of its massive monetary easing program in March 2024 helped investors prepare for the coming shift.',\n",
       " '\"Even if the economy remains robust at the moment, the longer concerns about tariffs remain, the greater the downward pressure on economic activity could become,” Takata said Thursday.',\n",
       " 'The BOJ will deliver its next policy decision on July 31, with more than 90% of BOJ watchers surveyed last month expecting the benchmark rate to be left at 0.5%.']"
      ]
     },
     "execution_count": 13,
     "metadata": {},
     "output_type": "execute_result"
    }
   ],
   "source": [
    "div_element = driver.find_element(By.XPATH, \"//div[@class='article-body']\")\n",
    "article_body = div_element.find_elements(By.TAG_NAME, \"p\")\n",
    "\n",
    "the_japan_times = []\n",
    "content_list = []\n",
    "\n",
    "# date\n",
    "date = driver.find_element(By.CSS_SELECTOR, \"div.publish-date\").text\n",
    "the_japan_times.append({\n",
    "    \"date\": date,\n",
    "    \"content\": []\n",
    "})\n",
    "for item in article_body: \n",
    "    try: \n",
    "        # paragraphs \n",
    "        paragraph = item.text\n",
    "        content_list.append(paragraph)\n",
    "        # the_japan_times[\"content\"].append(paragraph)\n",
    "\n",
    "    except Exception as e:\n",
    "        print(f\"Error extracting data: {e}\")\n",
    "        break \n",
    "\n",
    "content_list"
   ]
  },
  {
   "cell_type": "code",
   "execution_count": 18,
   "id": "9ca94bda",
   "metadata": {},
   "outputs": [
    {
     "data": {
      "text/plain": [
       "'The Bank of Japan’s rate hike cycle will resume after \"only” a temporary pause, policy board member Hajime Takata warned, keeping his hawkish tone even after U.S. President Donald Trump clouded the economic outlook by threatening to impose tariffs on Japanese goods higher than those previously touted. \"I believe that the bank is currently only pausing its policy interest rate hike cycle and should continue to make a gear shift after a certain period of ‘wait and see,’” Takata said Thursday in a speech to local business leaders in Mie Prefecture.  Takata’s remarks made it clear that the BOJ is continuing to look for further opportunities to raise rates even after the prospects for a trade deal with the U.S. appeared to recede after Trump floated the idea of increasing tariffs to 35%, compared with a previous plan to hike an across-the-board duty to 24% starting next week. Takata, considered a hawkish member of the central bank\\'s board, said authorities \"may need to nimbly shift back to the rate hike cycle in response to policy changes” in the U.S. His remarks indicate there’s still a chance of another hike this year depending on the effects of the levies. Given high uncertainties regarding U.S. policies, \"the bank is required to conduct monetary policy in a more flexible manner without being too pessimistic,” he said. Takata was speaking as Japan’s pace of inflation has stayed elevated at the highest level among Group of Seven major industrial nations. A key measure for the cost of living hit a fresh two-year high in May, and a record of the BOJ’s meeting last month reflected a shared awareness among officials that price growth is a little stronger than expected. \"Japan’s economy is at a stage where the price stability target is close to being achieved,” Takata said. \"The key to a further gear shift in monetary policy is the sustainability of positive corporate behavior.” BOJ Gov. Kazuo Ueda has repeatedly said underlying inflation remains below the bank’s 2% target and he wants to see the trend rise before raising rates again. He also wants to confirm the likely magnitude of the economic impact from U.S. trade policies. In previous speeches, Takata, a veteran economist and former bond analyst, has noted the need to raise borrowing costs as economic activity improves. Remarks of that nature in the weeks running up to the BOJ’s historic end of its massive monetary easing program in March 2024 helped investors prepare for the coming shift. \"Even if the economy remains robust at the moment, the longer concerns about tariffs remain, the greater the downward pressure on economic activity could become,” Takata said Thursday. The BOJ will deliver its next policy decision on July 31, with more than 90% of BOJ watchers surveyed last month expecting the benchmark rate to be left at 0.5%.'"
      ]
     },
     "execution_count": 18,
     "metadata": {},
     "output_type": "execute_result"
    }
   ],
   "source": [
    "content = \" \".join(content_list)\n",
    "content"
   ]
  },
  {
   "cell_type": "code",
   "execution_count": 19,
   "id": "33cc3500",
   "metadata": {},
   "outputs": [
    {
     "data": {
      "text/plain": [
       "[{'date': 'Jul 3, 2025',\n",
       "  'content': 'The Bank of Japan’s rate hike cycle will resume after \"only” a temporary pause, policy board member Hajime Takata warned, keeping his hawkish tone even after U.S. President Donald Trump clouded the economic outlook by threatening to impose tariffs on Japanese goods higher than those previously touted. \"I believe that the bank is currently only pausing its policy interest rate hike cycle and should continue to make a gear shift after a certain period of ‘wait and see,’” Takata said Thursday in a speech to local business leaders in Mie Prefecture.  Takata’s remarks made it clear that the BOJ is continuing to look for further opportunities to raise rates even after the prospects for a trade deal with the U.S. appeared to recede after Trump floated the idea of increasing tariffs to 35%, compared with a previous plan to hike an across-the-board duty to 24% starting next week. Takata, considered a hawkish member of the central bank\\'s board, said authorities \"may need to nimbly shift back to the rate hike cycle in response to policy changes” in the U.S. His remarks indicate there’s still a chance of another hike this year depending on the effects of the levies. Given high uncertainties regarding U.S. policies, \"the bank is required to conduct monetary policy in a more flexible manner without being too pessimistic,” he said. Takata was speaking as Japan’s pace of inflation has stayed elevated at the highest level among Group of Seven major industrial nations. A key measure for the cost of living hit a fresh two-year high in May, and a record of the BOJ’s meeting last month reflected a shared awareness among officials that price growth is a little stronger than expected. \"Japan’s economy is at a stage where the price stability target is close to being achieved,” Takata said. \"The key to a further gear shift in monetary policy is the sustainability of positive corporate behavior.” BOJ Gov. Kazuo Ueda has repeatedly said underlying inflation remains below the bank’s 2% target and he wants to see the trend rise before raising rates again. He also wants to confirm the likely magnitude of the economic impact from U.S. trade policies. In previous speeches, Takata, a veteran economist and former bond analyst, has noted the need to raise borrowing costs as economic activity improves. Remarks of that nature in the weeks running up to the BOJ’s historic end of its massive monetary easing program in March 2024 helped investors prepare for the coming shift. \"Even if the economy remains robust at the moment, the longer concerns about tariffs remain, the greater the downward pressure on economic activity could become,” Takata said Thursday. The BOJ will deliver its next policy decision on July 31, with more than 90% of BOJ watchers surveyed last month expecting the benchmark rate to be left at 0.5%.'}]"
      ]
     },
     "execution_count": 19,
     "metadata": {},
     "output_type": "execute_result"
    }
   ],
   "source": [
    "the_japan_times[0][\"content\"] = content\n",
    "the_japan_times"
   ]
  },
  {
   "cell_type": "code",
   "execution_count": 28,
   "id": "388b1053",
   "metadata": {},
   "outputs": [
    {
     "data": {
      "text/plain": [
       "[{'date': 'Jul 3, 2025',\n",
       "  'content': 'Bank of Japan watchers brought forward their forecast for when they expect the next interest rate hike, after clarity over trade increased with U.S. President Donald Trump announcing deals, including one with Japan. Some 42% of 45 economists surveyed by Bloomberg anticipate the move in October, jumping from 32% in the previous survey. Analyst views were last canvassed before the announcement of Japan’s trade pact with the U.S. on July 22, and last week’s BOJ policy decision. Those predicting it in January slightly dropped to a third, while those expecting December doubled to 11%.  No one foresees action at the next meeting in September as their base case, but in a risk scenario, about a quarter said the hike could come as soon as next month. Some 60% said the next hike could come as early as October. The results show that many BOJ watchers are convinced the next increase in borrowing costs is coming closer, even after Gov. Kazuo Ueda signaled caution on Thursday. Analysts pointed to the fact that the BOJ upgraded its inflation forecasts more than expected and raised its risk balance view as evidence the bank is making progress toward a rate move. \"This meeting laid the groundwork for the next hike,” Kento Minami, senior economist at Daiwa Securities, wrote in his survey response. \"Considering upside price risks from food and potentially a weak yen, the condition is suited for another move this year once resilience in corporate activity is confirmed.” The BOJ boosted its price projection sharply to 2.7% for this fiscal year from 2.2% in its quarterly outlook report released Thursday. The bank now sees the risk for prices as generally balanced after seeing only downside risks three months ago. Still, the hawkish signals in the report were toned down during Ueda’s post-meeting news conference. The governor repeatedly highlighted the fact that though a little less than before, uncertainty remains high, and indicated little urgency toward a hike by saying there’s a low risk of falling behind the curve in responding to inflation. Naka Matsuzawa, chief strategist at Nomura Securities, concluded that Ueda’s news conference and the BOJ’s statements were hawkish overall, partly because it’s natural for a central banker to deny the likelihood of falling behind the curve as it’s taboo to be in that position. Some 49% of surveyed economists said that Ueda’s remarks at his news conference were neutral, while 44% said it was dovish. Only 5% said it was hawkish. The comments led the yen to break a key psychological level of ¥150 per dollar, reaching its weakest point since March on Friday. After yen weakness has played a major role in pushing the BOJ toward a policy shift in the past, analysts say it could happen again this time. Some 44% said the possibility is rising for the yen to become a key factor to nudge the bank toward another hike, while 35% didn’t see such an increase. About a fifth said it’s hard to tell. \"If there’s considerable yen depreciation, there’s a risk scenario where the BOJ may opt for an earlier rate hike while highlighting upside movements in underlying inflation,” said Takeshi Yamaguchi, chief Japan economist at Morgan Stanley MUFG Securities. In addition to still unclear economic pressure from tariffs and a weak yen, many analysts cited political uncertainty as a potential hurdle for the central bank as it navigates monetary policy. Prime Minister Shigeru Ishiba is facing calls to resign after he faced a historic defeat in the Upper House election on July 20, losing a majority in both houses of parliament for his ruling coalition. Some 71% of the surveyed economists said that there is a risk that Ueda’s board won’t be able to raise rates this year if Ishiba is replaced by a monetary easing advocate, while 19% said that won’t be the case. With Ueda’s repeated message that he wants to parse data broadly and carefully before considering the next hike, some BOJ watchers doubt whether the BOJ will have enough data on hand to say another rate change is warranted this year. \"It takes time to confirm the impact of tariffs in data, even if the effects end up being smaller than expected,” said Shigeto Nagai, former head of BOJ’s international department and currently the head of Oxford Economics in Japan. \"It’s impossible to raise rates again this year.”'}]"
      ]
     },
     "execution_count": 28,
     "metadata": {},
     "output_type": "execute_result"
    }
   ],
   "source": [
    "the_japan_times"
   ]
  },
  {
   "cell_type": "code",
   "execution_count": null,
   "id": "af6bd1fa",
   "metadata": {},
   "outputs": [],
   "source": [
    "# go back to previous page (google news list)\n",
    "prev_page = driver.back()\n",
    "time.sleep(5)\n"
   ]
  },
  {
   "cell_type": "code",
   "execution_count": 26,
   "id": "a0fe7fc5",
   "metadata": {},
   "outputs": [],
   "source": [
    "# Converting the results into a DataFrame \n",
    "the_japan_times_df = pd.DataFrame(the_japan_times)\n",
    "\n",
    "# Saving into .csv\n",
    "the_japan_times_df.to_csv(\"the_japan_times_articles.csv\", index=False)"
   ]
  },
  {
   "cell_type": "code",
   "execution_count": 62,
   "id": "5262639d",
   "metadata": {},
   "outputs": [
    {
     "ename": "KeyboardInterrupt",
     "evalue": "",
     "output_type": "error",
     "traceback": [
      "\u001b[31m---------------------------------------------------------------------------\u001b[39m",
      "\u001b[31mKeyboardInterrupt\u001b[39m                         Traceback (most recent call last)",
      "\u001b[36mCell\u001b[39m\u001b[36m \u001b[39m\u001b[32mIn[62]\u001b[39m\u001b[32m, line 8\u001b[39m\n\u001b[32m      6\u001b[39m driver = webdriver.Chrome(service=service, options=options)\n\u001b[32m      7\u001b[39m driver.get(url_the_japan_times)\n\u001b[32m----> \u001b[39m\u001b[32m8\u001b[39m \u001b[43mtime\u001b[49m\u001b[43m.\u001b[49m\u001b[43msleep\u001b[49m\u001b[43m(\u001b[49m\u001b[32;43m20\u001b[39;49m\u001b[43m)\u001b[49m\n\u001b[32m     11\u001b[39m \u001b[38;5;28;01mwhile\u001b[39;00m \u001b[38;5;28;01mTrue\u001b[39;00m: \n\u001b[32m     12\u001b[39m     google_search = driver.find_element(By.CSS_SELECTOR, \u001b[33m\"\u001b[39m\u001b[33mdiv.s6JM6d.ufC5Cb.EYIWQc\u001b[39m\u001b[33m\"\u001b[39m)\n",
      "\u001b[31mKeyboardInterrupt\u001b[39m: "
     ]
    }
   ],
   "source": [
    "the_japan_times_articles = []\n",
    "\n",
    "# Jan 2024 ~ May 2024\n",
    "url_the_japan_times = \"https://www.google.com/search?q=%22Japan+interest+rate%22+site:https://www.japantimes.co.jp/&lr=&sca_esv=29b06b32b8894029&as_qdr=all&tbs=cdr:1,cd_min:1/1/2024&ei=DjqPaLPuNvWBvr0Pto7qyAc&start=10&sa=N&sstk=Ac65TH7cZDWkwkQIg-W1gaO6zbXe88cKqBUIJO8wENJ4mkhF7eHgC5XWkL_zGM_lBrawTI2ct-yuz0PnTOQbYRXdKP5YSFN6OtnyAw&ved=2ahUKEwizrZe9t-6OAxX1gK8BHTaHGnkQ8tMDegQICRAE&biw=1594&bih=905&dpr=1\"\n",
    "\n",
    "driver = webdriver.Chrome(service=service, options=options)\n",
    "driver.get(url_the_japan_times)\n",
    "time.sleep(20)\n",
    "\n",
    "\n",
    "while True: \n",
    "    google_search = driver.find_element(By.CSS_SELECTOR, \"div.s6JM6d.ufC5Cb.EYIWQc\")\n",
    "    # every article is in this div container \n",
    "    articles = google_search.find_elements(By.CSS_SELECTOR, \"a.zReHs\")\n",
    "\n",
    "    for article in articles:\n",
    "        try:  \n",
    "            article.click()\n",
    "            time.sleep(3)\n",
    "\n",
    "            # paragraphs \n",
    "            div_element = driver.find_element(By.XPATH, \"//div[@class='article-body']\")\n",
    "            article_body = div_element.find_elements(By.TAG_NAME, \"p\")\n",
    "            \n",
    "            content_list = []\n",
    "\n",
    "            for item in article_body: \n",
    "                try: \n",
    "                    # paragraphs \n",
    "                    paragraph = item.text\n",
    "                    content_list.append(paragraph)\n",
    "\n",
    "                except Exception as e:\n",
    "                    print(f\"Error extracting data: {e}\")\n",
    "                    break \n",
    "\n",
    "            content = \" \".join(content_list)\n",
    "                #it can't be [0], this has to be iterated too  \n",
    "            \n",
    "            # date\n",
    "            date = driver.find_element(By.CSS_SELECTOR, \"div.publish-date\").text\n",
    "            \n",
    "            \n",
    "            the_japan_times_articles.append({\n",
    "                \"date\": date,\n",
    "                \"content\": content\n",
    "            })\n",
    "\n",
    "        except Exception as e:\n",
    "            print(f\"Error extracting data: {e}\")\n",
    "    \n",
    "        prev_page = driver.back()\n",
    "        time.sleep(3)\n",
    "\n",
    "    try:\n",
    "        next_button = driver.find_element(By.ID, \"pnnext\") \n",
    "        # next_button = driver.find_element(By.CSS_SELECTOR, \"td.d6cvqb.BBwThe a\")\n",
    "        next_button.click()\n",
    "        time.sleep(3)\n",
    "    except Exception as e:\n",
    "        print(f\"Error: {e}\")\n",
    "        break\n",
    "    "
   ]
  },
  {
   "cell_type": "code",
   "execution_count": 59,
   "id": "c69d6e35",
   "metadata": {},
   "outputs": [
    {
     "data": {
      "text/plain": [
       "[{'date': 'Mar 19, 2024',\n",
       "  'content': 'The Bank of Japan on Tuesday decided to scrap the world’s last negative rate policy, introducing a rate hike for the first time in 17 years. The historic move follows robust pay increases that have heightened the BOJ’s confidence that a healthy wage-price cycle is taking root in Japan. The central bank said in a statement, released after its two-day policy meeting, that such a cycle is more evident now, and “it came in sight that the price stability target of 2% would be achieved in a sustainable and stable manner” in the coming years.  Yet BOJ Gov. Kazuo Ueda hinted that it would be some time before the central bank rolls out further rate hikes. “We will likely be able to avoid a path of rapid rate hikes based on the current economic outlook,” Ueda said during a news conference after the meeting. The negative rate policy, which was implemented in 2016, had been a symbol of the BOJ’s ultraloose monetary stimulus that lasted over a decade, and its end highlights how the central bank finally intends to roll back the complex policy settings crafted under previous Gov. Haruhiko Kuroda. The BOJ had set short-term interest rates at minus 0.1% for some banks’ excess funds at the central bank, but terminated the negative rate and set a new target of zero percent to 0.1% for the overnight call rate. On top of the shift from negative rates, the BOJ also said it would terminate its so-called yield curve control program, which is designed to control 10-year Japanese Government Bond yields to around zero percent with a 1% loose upper cap through the purchasing of JGBs. But the BOJ will remain committed to buying basically the same amount of JGBs and flexibly adjusting to prevent a rapid increase in interest rates. The combination of negative rates and the JGB buying operation kept Japan’s interest rates at ultralow levels. In addition, the central bank said it is ending its purchasing of exchange-traded funds and real estate investment trusts known as J-REIT. Ueda said those unorthodox measures had fulfilled their roles and that the BOJ will be running a “normal monetary policy.” “The primary policy instrument to manage the monetary policy from now on will be short-term interest rates,” Ueda said. Short-term interest rates will be set in the same way as other central banks that use them as a policy tool, he added. “Thus, the appropriate level of rates will be set in line with the price and economic outlook.” Although the negative rates policy has come to an end, the yen dropped sharply on Tuesday, breaching the ¥150 level against the dollar for the first time in two weeks. That was attributed to the central bank signaling that another rate hike will not come in the near future.   Traditionally, the monetary policies of central banks had been based on the premise that interest rates would not fall below zero. But the BOJ turned to the unorthodox measure after Kuroda’s radical quantitative and qualitative easing — intended to fight deflation — did not really bear fruit. However, the negative rate policy, which was also introduced by the European Central Bank and the Swiss National Bank in 2014, did not really spur healthy inflation. When Kuroda first introduced his unprecedented monetary easing in 2013, his initial plan was to achieve the 2% inflation target within two years, but the goal remained elusive during his tenure, which ended last April. In the end, what changed Japan’s wage and price situation was an outside shock — namely, high import costs triggered by the Russia-Ukraine war. That was followed and exacerbated by a severe weakening of the yen, itself prompted by the BOJ keeping negative rates in place even as other central banks raised rates to tame their own spiraling inflation. Due to the soaring import costs, a slew of Japanese firms have raised prices and wages in the past couple of years, opening up space for the BOJ to shift from its unorthodox aggressive monetary easing. This year’s spring wage negotiations involving major Japanese firms have delivered strong pay increases, with the preliminary figure for the average hike standing at a 33-year high of 5.28%, according to Japan’s largest labor organization, better known as Rengo. That is considerably higher than last year’s preliminary figure of 3.8%. “The first tally from Rengo turned out to be surprisingly high. I think this was the deciding factor” for the BOJ to make the move, said Tsuyoshi Ueno, senior economist at NLI Research Institute. Ueda had said that the wage hike trend that emerged from the negotiations, known as shuntō, would be important in determining whether a virtuous cycle of wage and price hikes was in sight — a condition for the BOJ to start the normalization of its monetary policy. Although inflation has stayed above the BOJ’s target of 2% for almost two years, wage growth has failed to keep up with price hikes. As such, the level of pay raise stemming from shuntō was seen as a key factor. While the BOJ has unwound its ultraloose monetary stimulus, the bank said it would maintain its dovish stance for the time being. Despite the strong wage growth, the economy is not in its best shape, with consumption remaining sluggish. Ueda said that the central bank will be ready to raise rates when the base inflation rate rises and the economic situation comes closer to the stable and sustainable 2% price target. “There is no need to rush to raise rates, since prices are not expected to increase at a rapid pace. At this stage, I think the BOJ is not intending to introduce another rate hike anytime soon,” Ueno said. Other factors are also likely to make the BOJ cautious when it comes to navigating monetary policy. For instance, the U.S. Federal Reserve is looking to implement rate cuts this year, so if the BOJ further raises rates, the yen might rapidly gain in value, impacting the economy. The BOJ’s rate hikes would also increase borrowing costs for the government, which relies on JGBs to help finance its budget. “Since various factors will continue to intertwine in a complex manner, I believe that communication with the market will continue to be important,” Ueno said.'},\n",
       " {'date': 'May 30, 2024',\n",
       "  'content': \"The end of Japan’s experiment in ultralow interest rates may be less of a shock to the system than feared. Corporations are better prepared for more expensive money than they were in the past, with strong balance sheets and a better understanding of risk, while piles of savings will start to generate significant income as rates increase.  And the government, although heavily in debt, has some time to get its fiscal house in order given the average maturities of the bonds it has sold. Since the Bank of Japan ended its negative rate policy in March and upped rates for the first time since 2007, the yield on Japan's benchmark 10-year government bond has been rising. Last week, it climbed to the 1% level for the first time in 11 years and on Thursday rallied to a 13-year high of 1.1%. With the BOJ looking to normalize monetary policy, market expectations suggest that the central bank will likely shift to a more hawkish stance in the coming years. A steady and paced rise in interest rates would not inflict heavy damage on businesses overall, according to Tomohisa Ishikawa, chief economist at the Japan Research Institute, which predicts the central bank increasing rates by 25 basis points every six months for the time being. “One thing is that Japanese firms tend to be timid about getting loans after the burst of the asset bubble,” he said, referring to Japan's so-called bubble economy, which came crashing down in the 1990s. Data compiled by the Japan Research Institute show that a 1-percentage-point rate increase reduced corporate capital expenditure by 3.5% in the 1980s and 1990s. Between 2000 and 2019, a 1-percentage-point rise in rates resulted in a 2% fall in capital expenditure. Another factor that will possibly soften the impact is that Japanese companies have been willing to invest in IT and software to improve efficiency in recent years. Digitalization and incorporating new systems amid severe labor shortages is key to survive competition, so capital expenditures for such purposes will not really be swayed by an increase in borrowing costs, Ishikawa said. He cautions that financially weak small and midsized enterprises will likely be more hesitant to make such investments, which could pose a risk to their competitiveness. A rise in rates would lower the productivity of those companies, and a number of them may not survive competition, he said. Households and savers in general could find some comfort in rising rates.   The low-rate policy has been seen as a major factor in the weakening of the yen, which has pushed up import costs and prices on a wide range of daily goods. “Short-term interest rates are extremely low, in real terms, and that is causing some side effects, some negative impacts to the economy,” said Takahide Kiuchi, executive economist at Nomura Research Institute. “Increases in short-term interest rates could reduce this kind of side effect and contribute to the stability of the economy in the long term,” he said. As of last December, Japanese household financial assets stood at ¥2.141 quadrillion ($13.6 trillion) while debts totaled ¥388 trillion. Based on a simulation by Mizuho Research & Technologies in which the central bank’s policy target rate would reach 2.75% by the end of 2026, households would on average have an additional ¥178,000 in annual financial asset income in fiscal 2026. But those with housing loans would have an additional burden of ¥101,000 a year in the same simulation. Economists warn that higher rates could possibly widen disparity between rich seniors and young, lower-income households. Extra income from financial assets due to higher interest rates would be higher for older households, as they tend to have more assets, Japan Research Institute's Ishikawa said. “The impact of rising interest rates is expected to be polarized by age and wealth holding,” he said. Since the BOJ ended its negative rate policy, calls for the Japanese government to strengthen its fiscal discipline have been growing. The country is haunted by public debt that is about twice the size of the gross domestic product. Economists argue that interest rate increases will not dramatically elevate the government’s debt-servicing costs in the short term because the average maturity of Japanese government bonds is about nine years. But they are calling for action. “Improving the fiscal balance with an eye on the risk of rising interest rates is a matter that cannot wait,” Saisuke Sakai, a senior economist at Mizuho Research & Technologies, warned in a report released last month. If interest rates keep rising, Japan’s long-term rates could top its nominal growth rates in the medium to long term. In that case, debt-servicing costs would be larger than the increase in tax revenue, so the country’s fiscal health would deteriorate further, Sakai said. Ishikawa also said Japan should ramp up efforts to brace for possible increases in borrowing costs while there is still time. “The country seriously needs to discuss and come up with measures for fiscal reconstruction in the next four to five years,” he said.  \"},\n",
       " {'date': 'MAR 21, 2024', 'content': ''},\n",
       " {'date': 'FEB 16, 2024', 'content': ''},\n",
       " {'date': 'JUN 11, 2024', 'content': ''},\n",
       " {'date': 'Mar 3, 2024',\n",
       "  'content': \"Japan is asking investors to stump trillions of yen over the next decade to back its efforts to tackle climate change. But both investor groups and climate change experts are concerned about the decarbonization merits of the projects the world’s first sovereign “transition bonds” will be supporting. These special sovereign bonds, which were issued for the first time last month, are intended to fund a wide variety of projects and technologies that are expected to help accelerate Japan’s shift to carbon neutrality by 2050.  As part of its green transformation strategy, Japan plans to attract about ¥150 trillion ($997 billion) in investment from both the private and public sectors. To stimulate investment by the former, the government will issue Japan Climate Transition Bonds worth a total of ¥20 trillion over the next 10 years. The new policy is seen as an indication of Japan’s commitment to cultivating a greener path, and in that sense the bonds have been welcomed. But there is concern over the length of time it would take for a number of supported projects to be of practical benefit. For others, it’s not even clear they would actually contribute to decarbonization. Such projects include promoting the use of ammonia for thermal power and developing next-generation nuclear reactors.   The former can still lead to greenhouse gas emissions — either by the production process or when it isn't burned correctly — while for the latter, it remains to be seen whether they will deliver on their promise. “There are certainly high risks that technological innovation may fail. ... In cases where (supported projects) end up not being effective for decarbonization, the bonds would eventually end up as greenwashing,” says Hideo Oshima, a senior economist at the Japan Research Institute who tracks climate change issues. Aina Fukuda, the head of Japan Investment Stewardship at Legal & General Investment Management Japan, says that it is welcome that Japan now views measures to tackle climate change as opportunities for economic growth, rather than merely as costs. But certain projects expected to be funded by the transition bonds cast doubt on the initiative’s capacity to address the global climate crisis, she adds. “What concerns us most is that it is hard to see a clear roadmap to the phasing out of the use of fossil fuels; rather, it will likely be prolonged,” Fukuda says. Japan’s plan to facilitate the research and development of ammonia or hydrogen co-firing has been criticized by a number of environmental groups who see it as a move to prolong the life of coal-fired plants. They are also doubtful that ammonia would be as cost effective as renewables like wind and solar, which have seen massive declines in prices over the past decade. The government says it is important to explore new technologies because Japan cannot rely too heavily on renewables due to the limited availability of land and frequent earthquakes and typhoons. Rapidly phasing out fossil fuels would put a stable energy supply at risk, the industry ministry has said.   Japan’s top power producer Jera plans to start the world's first trial of 20% ammonia co-firing with coal at its Hekinan plant in Aichi Prefecture this month. The government says ammonia and hydrogen are key to realizing a carbon-free future, as they typically do not produce carbon emissions when used as fuel for power generation. However, their production can lead to emissions, and shifting to 100% ammonia or hydrogen as fuel at coal-fired plants is expected to take over a decade, as developing the stable and vast supply chains needed is highly challenging. Independent research also contends that a shift to an energy mix dominated by renewable energy is a possibility for Japan. The Renewable Energy Institute and the Lawrence Berkeley National Laboratory, for example, respectively say that renewable energy could make up 80% or 70% of energy generation by 2035. “As government officials are also aware, I’m under the impression that few investors globally are convinced that the promotion of thermal power generation utilizing co-firing technology of ammonia and hydrogen is suitable for inclusion in the list of investment projects covered by the transition bonds,” Fukuda says. Indeed, a report by the Principles for Responsible Investment, a United Nations-backed group, also says that some projects covered by the bonds may not be effective. “(Japan’s) green transformation transition bonds may include co-firing power generation with coal and the use of grey hydrogen” the report says, referring to hydrogen generated from natural gas where the resulting carbon dioxide emissions are not captured. “This could lead to risks of greenwashing as well as potentially being a more costly route towards decarbonization. “Many investors will expect clear guidelines and use of proceeds frameworks for the transition bonds, and a lack of transparency may not attract investor interest and creates investor risk.”   Responding to such concerns, the government did not include ammonia fuel projects in those to be funded by the transition bonds sold in February. The government has allocated a separate budget for ammonia fuel technology, so at this point it does not really expect that it will be covered by the bonds, an industry ministry official says. As for the promotion of next-generation nuclear reactors, some investors have questioned if it’s worthwhile for Japan — which is still reckoning with nuclear power after the 2011 meltdowns at the Fukushima No. 1 plant — to increase reliance on the energy source considering the costs and safety risks. The sale of about ¥800 billion worth of 10-year transition bonds took place on Feb. 14 and were priced to yield 0.74%, while another ¥800 billion in five-year bonds were sold last week and priced to yield 0.339%. Compared with the yields of regular five- and 10-year bonds, the figures for the transition bonds were lower, indicating a premium, but market observers say that demand was weaker than expected. Yields on bonds move inversely to prices. “The bidding was a bit sluggish, probably due to growing expectation that the Bank of Japan will start normalizing its monetary policy and interest rates will rise,” Takahide Kiuchi, executive economist at the Nomura Research Institute, said in a blog post published after the Feb. 14 sale. “Also, investors might be seeing a liquidity risk, because the transition bonds are issued separately from regular Japanese government bonds and the scale is just ¥800 billion.”   Finance Minister Shunichi Suzuki said last week that he is aware of greenwashing criticisms, but “I was informed that many investors have shown understanding on the importance of the transition.” “We hope the world’s first sovereign transition bond will play a role in increasing understanding of Japan’s green strategy and stimulate transition finance within Japan and overseas.” Skepticism will likely remain among investors, however, as Japan’s green strategy has been seen more as an industrial policy aimed at boosting companies’ competitiveness. By attracting investments in projects that could produce game-changing innovation, Japan apparently aims to gain an advantage in the global energy market and bolster its energy security. In fact, the government says in the Japan Climate Transition Bond Framework document that technologies that are “particularly effective at enhancing industrial competitiveness and economic growth” would be given priority. Oshima says that it is necessary to support and invest in industries’ green transformation technologies, but “it’s a different story whether that will really lead to cutting emissions.” It is not that Japan is unwilling to bet on renewables, given that the country plans to pour ¥20 trillion into them over the next decade — a figure that is much higher than the ¥7 trillion for ammonia and hydrogen as well as the ¥1 trillion for next-generation nuclear reactors.   Among the renewables covered by the transition bonds are cutting-edge solar cells and floating offshore wind, and there are also projects that will help slash emissions, such as encouraging the adoption of electric vehicles and zero-emission houses and buildings. But Oshima says that Japan’s green strategy should see the country invest in more measures that can firmly reduce emissions in the next five or 10 years. Some investors have pointed out that it is unclear if Japan’s green transformation strategy is really in line with the Paris Agreement, which set a goal of holding the increase in global average temperatures to less than 2 degrees Celsius above pre-industrial levels and pursuing efforts to limit the rise to 1.5 C. Climate Action Tracker rates Japan’s policies as “insufficient,” meaning the country needs “substantial” improvement to be aligned with the 1.5 C target. “To limit the increase to 1.5 degrees, it is key to significantly reduce emissions in the next five to 10 years, but there appears to be a time lag because various projects and technologies emphasized in Japan’s green strategy are not yet tested or would not be commercially available until much later,” says Fukuda of Legal & General Investment Management Japan. “It would seem fair to question the consistency between Japan’s green strategy and the delivery of a net-zero economy.”\"}]"
      ]
     },
     "execution_count": 59,
     "metadata": {},
     "output_type": "execute_result"
    }
   ],
   "source": [
    "the_japan_times_articles"
   ]
  },
  {
   "cell_type": "code",
   "execution_count": 54,
   "id": "cb639590",
   "metadata": {},
   "outputs": [],
   "source": [
    "url_the_japan_times = \"https://www.google.com/search?q=Japan+interest+rate+site%3Ahttps%3A%2F%2Fwww.japantimes.co.jp%2F&lr=&sca_esv=29b06b32b8894029&as_qdr=all&source=lnt&tbs=cdr%3A1%2Ccd_min%3A1%2F1%2F2024%2Ccd_max%3A&tbm=\"\n",
    "\n",
    "driver = webdriver.Chrome(service=service, options=options)\n",
    "driver.get(url_the_japan_times)\n",
    "time.sleep(20)"
   ]
  },
  {
   "cell_type": "code",
   "execution_count": 56,
   "id": "94c66885",
   "metadata": {},
   "outputs": [
    {
     "ename": "KeyboardInterrupt",
     "evalue": "",
     "output_type": "error",
     "traceback": [
      "\u001b[31m---------------------------------------------------------------------------\u001b[39m",
      "\u001b[31mKeyboardInterrupt\u001b[39m                         Traceback (most recent call last)",
      "\u001b[36mCell\u001b[39m\u001b[36m \u001b[39m\u001b[32mIn[56]\u001b[39m\u001b[32m, line 8\u001b[39m\n\u001b[32m      6\u001b[39m \u001b[38;5;28;01mfor\u001b[39;00m article \u001b[38;5;129;01min\u001b[39;00m articles:\n\u001b[32m      7\u001b[39m     \u001b[38;5;28;01mtry\u001b[39;00m:  \n\u001b[32m----> \u001b[39m\u001b[32m8\u001b[39m         \u001b[43marticle\u001b[49m\u001b[43m.\u001b[49m\u001b[43mclick\u001b[49m\u001b[43m(\u001b[49m\u001b[43m)\u001b[49m\n\u001b[32m      9\u001b[39m         time.sleep(\u001b[32m5\u001b[39m)\n\u001b[32m     10\u001b[39m     \u001b[38;5;28;01mexcept\u001b[39;00m \u001b[38;5;167;01mException\u001b[39;00m \u001b[38;5;28;01mas\u001b[39;00m e:\n",
      "\u001b[36mFile \u001b[39m\u001b[32m~/Documents/PythonProject/stock_analysis/.venv/lib/python3.13/site-packages/selenium/webdriver/remote/webelement.py:120\u001b[39m, in \u001b[36mWebElement.click\u001b[39m\u001b[34m(self)\u001b[39m\n\u001b[32m    112\u001b[39m \u001b[38;5;28;01mdef\u001b[39;00m\u001b[38;5;250m \u001b[39m\u001b[34mclick\u001b[39m(\u001b[38;5;28mself\u001b[39m) -> \u001b[38;5;28;01mNone\u001b[39;00m:\n\u001b[32m    113\u001b[39m \u001b[38;5;250m    \u001b[39m\u001b[33;03m\"\"\"Clicks the element.\u001b[39;00m\n\u001b[32m    114\u001b[39m \n\u001b[32m    115\u001b[39m \u001b[33;03m    Example:\u001b[39;00m\n\u001b[32m   (...)\u001b[39m\u001b[32m    118\u001b[39m \u001b[33;03m    >>> element.click()\u001b[39;00m\n\u001b[32m    119\u001b[39m \u001b[33;03m    \"\"\"\u001b[39;00m\n\u001b[32m--> \u001b[39m\u001b[32m120\u001b[39m     \u001b[38;5;28;43mself\u001b[39;49m\u001b[43m.\u001b[49m\u001b[43m_execute\u001b[49m\u001b[43m(\u001b[49m\u001b[43mCommand\u001b[49m\u001b[43m.\u001b[49m\u001b[43mCLICK_ELEMENT\u001b[49m\u001b[43m)\u001b[49m\n",
      "\u001b[36mFile \u001b[39m\u001b[32m~/Documents/PythonProject/stock_analysis/.venv/lib/python3.13/site-packages/selenium/webdriver/remote/webelement.py:573\u001b[39m, in \u001b[36mWebElement._execute\u001b[39m\u001b[34m(self, command, params)\u001b[39m\n\u001b[32m    571\u001b[39m     params = {}\n\u001b[32m    572\u001b[39m params[\u001b[33m\"\u001b[39m\u001b[33mid\u001b[39m\u001b[33m\"\u001b[39m] = \u001b[38;5;28mself\u001b[39m._id\n\u001b[32m--> \u001b[39m\u001b[32m573\u001b[39m \u001b[38;5;28;01mreturn\u001b[39;00m \u001b[38;5;28;43mself\u001b[39;49m\u001b[43m.\u001b[49m\u001b[43m_parent\u001b[49m\u001b[43m.\u001b[49m\u001b[43mexecute\u001b[49m\u001b[43m(\u001b[49m\u001b[43mcommand\u001b[49m\u001b[43m,\u001b[49m\u001b[43m \u001b[49m\u001b[43mparams\u001b[49m\u001b[43m)\u001b[49m\n",
      "\u001b[36mFile \u001b[39m\u001b[32m~/Documents/PythonProject/stock_analysis/.venv/lib/python3.13/site-packages/selenium/webdriver/remote/webdriver.py:451\u001b[39m, in \u001b[36mWebDriver.execute\u001b[39m\u001b[34m(self, driver_command, params)\u001b[39m\n\u001b[32m    448\u001b[39m     \u001b[38;5;28;01melif\u001b[39;00m \u001b[33m\"\u001b[39m\u001b[33msessionId\u001b[39m\u001b[33m\"\u001b[39m \u001b[38;5;129;01mnot\u001b[39;00m \u001b[38;5;129;01min\u001b[39;00m params:\n\u001b[32m    449\u001b[39m         params[\u001b[33m\"\u001b[39m\u001b[33msessionId\u001b[39m\u001b[33m\"\u001b[39m] = \u001b[38;5;28mself\u001b[39m.session_id\n\u001b[32m--> \u001b[39m\u001b[32m451\u001b[39m response = \u001b[43mcast\u001b[49m\u001b[43m(\u001b[49m\u001b[43mRemoteConnection\u001b[49m\u001b[43m,\u001b[49m\u001b[43m \u001b[49m\u001b[38;5;28;43mself\u001b[39;49m\u001b[43m.\u001b[49m\u001b[43mcommand_executor\u001b[49m\u001b[43m)\u001b[49m\u001b[43m.\u001b[49m\u001b[43mexecute\u001b[49m\u001b[43m(\u001b[49m\u001b[43mdriver_command\u001b[49m\u001b[43m,\u001b[49m\u001b[43m \u001b[49m\u001b[43mparams\u001b[49m\u001b[43m)\u001b[49m\n\u001b[32m    453\u001b[39m \u001b[38;5;28;01mif\u001b[39;00m response:\n\u001b[32m    454\u001b[39m     \u001b[38;5;28mself\u001b[39m.error_handler.check_response(response)\n",
      "\u001b[36mFile \u001b[39m\u001b[32m~/Documents/PythonProject/stock_analysis/.venv/lib/python3.13/site-packages/selenium/webdriver/remote/remote_connection.py:404\u001b[39m, in \u001b[36mRemoteConnection.execute\u001b[39m\u001b[34m(self, command, params)\u001b[39m\n\u001b[32m    402\u001b[39m trimmed = \u001b[38;5;28mself\u001b[39m._trim_large_entries(params)\n\u001b[32m    403\u001b[39m LOGGER.debug(\u001b[33m\"\u001b[39m\u001b[38;5;132;01m%s\u001b[39;00m\u001b[33m \u001b[39m\u001b[38;5;132;01m%s\u001b[39;00m\u001b[33m \u001b[39m\u001b[38;5;132;01m%s\u001b[39;00m\u001b[33m\"\u001b[39m, command_info[\u001b[32m0\u001b[39m], url, \u001b[38;5;28mstr\u001b[39m(trimmed))\n\u001b[32m--> \u001b[39m\u001b[32m404\u001b[39m \u001b[38;5;28;01mreturn\u001b[39;00m \u001b[38;5;28;43mself\u001b[39;49m\u001b[43m.\u001b[49m\u001b[43m_request\u001b[49m\u001b[43m(\u001b[49m\u001b[43mcommand_info\u001b[49m\u001b[43m[\u001b[49m\u001b[32;43m0\u001b[39;49m\u001b[43m]\u001b[49m\u001b[43m,\u001b[49m\u001b[43m \u001b[49m\u001b[43murl\u001b[49m\u001b[43m,\u001b[49m\u001b[43m \u001b[49m\u001b[43mbody\u001b[49m\u001b[43m=\u001b[49m\u001b[43mdata\u001b[49m\u001b[43m)\u001b[49m\n",
      "\u001b[36mFile \u001b[39m\u001b[32m~/Documents/PythonProject/stock_analysis/.venv/lib/python3.13/site-packages/selenium/webdriver/remote/remote_connection.py:428\u001b[39m, in \u001b[36mRemoteConnection._request\u001b[39m\u001b[34m(self, method, url, body)\u001b[39m\n\u001b[32m    425\u001b[39m     body = \u001b[38;5;28;01mNone\u001b[39;00m\n\u001b[32m    427\u001b[39m \u001b[38;5;28;01mif\u001b[39;00m \u001b[38;5;28mself\u001b[39m._client_config.keep_alive:\n\u001b[32m--> \u001b[39m\u001b[32m428\u001b[39m     response = \u001b[38;5;28;43mself\u001b[39;49m\u001b[43m.\u001b[49m\u001b[43m_conn\u001b[49m\u001b[43m.\u001b[49m\u001b[43mrequest\u001b[49m\u001b[43m(\u001b[49m\u001b[43mmethod\u001b[49m\u001b[43m,\u001b[49m\u001b[43m \u001b[49m\u001b[43murl\u001b[49m\u001b[43m,\u001b[49m\u001b[43m \u001b[49m\u001b[43mbody\u001b[49m\u001b[43m=\u001b[49m\u001b[43mbody\u001b[49m\u001b[43m,\u001b[49m\u001b[43m \u001b[49m\u001b[43mheaders\u001b[49m\u001b[43m=\u001b[49m\u001b[43mheaders\u001b[49m\u001b[43m,\u001b[49m\u001b[43m \u001b[49m\u001b[43mtimeout\u001b[49m\u001b[43m=\u001b[49m\u001b[38;5;28;43mself\u001b[39;49m\u001b[43m.\u001b[49m\u001b[43m_client_config\u001b[49m\u001b[43m.\u001b[49m\u001b[43mtimeout\u001b[49m\u001b[43m)\u001b[49m\n\u001b[32m    429\u001b[39m     statuscode = response.status\n\u001b[32m    430\u001b[39m \u001b[38;5;28;01melse\u001b[39;00m:\n",
      "\u001b[36mFile \u001b[39m\u001b[32m~/Documents/PythonProject/stock_analysis/.venv/lib/python3.13/site-packages/urllib3/_request_methods.py:143\u001b[39m, in \u001b[36mRequestMethods.request\u001b[39m\u001b[34m(self, method, url, body, fields, headers, json, **urlopen_kw)\u001b[39m\n\u001b[32m    135\u001b[39m     \u001b[38;5;28;01mreturn\u001b[39;00m \u001b[38;5;28mself\u001b[39m.request_encode_url(\n\u001b[32m    136\u001b[39m         method,\n\u001b[32m    137\u001b[39m         url,\n\u001b[32m   (...)\u001b[39m\u001b[32m    140\u001b[39m         **urlopen_kw,\n\u001b[32m    141\u001b[39m     )\n\u001b[32m    142\u001b[39m \u001b[38;5;28;01melse\u001b[39;00m:\n\u001b[32m--> \u001b[39m\u001b[32m143\u001b[39m     \u001b[38;5;28;01mreturn\u001b[39;00m \u001b[38;5;28;43mself\u001b[39;49m\u001b[43m.\u001b[49m\u001b[43mrequest_encode_body\u001b[49m\u001b[43m(\u001b[49m\n\u001b[32m    144\u001b[39m \u001b[43m        \u001b[49m\u001b[43mmethod\u001b[49m\u001b[43m,\u001b[49m\u001b[43m \u001b[49m\u001b[43murl\u001b[49m\u001b[43m,\u001b[49m\u001b[43m \u001b[49m\u001b[43mfields\u001b[49m\u001b[43m=\u001b[49m\u001b[43mfields\u001b[49m\u001b[43m,\u001b[49m\u001b[43m \u001b[49m\u001b[43mheaders\u001b[49m\u001b[43m=\u001b[49m\u001b[43mheaders\u001b[49m\u001b[43m,\u001b[49m\u001b[43m \u001b[49m\u001b[43m*\u001b[49m\u001b[43m*\u001b[49m\u001b[43murlopen_kw\u001b[49m\n\u001b[32m    145\u001b[39m \u001b[43m    \u001b[49m\u001b[43m)\u001b[49m\n",
      "\u001b[36mFile \u001b[39m\u001b[32m~/Documents/PythonProject/stock_analysis/.venv/lib/python3.13/site-packages/urllib3/_request_methods.py:278\u001b[39m, in \u001b[36mRequestMethods.request_encode_body\u001b[39m\u001b[34m(self, method, url, fields, headers, encode_multipart, multipart_boundary, **urlopen_kw)\u001b[39m\n\u001b[32m    274\u001b[39m     extra_kw[\u001b[33m\"\u001b[39m\u001b[33mheaders\u001b[39m\u001b[33m\"\u001b[39m].setdefault(\u001b[33m\"\u001b[39m\u001b[33mContent-Type\u001b[39m\u001b[33m\"\u001b[39m, content_type)\n\u001b[32m    276\u001b[39m extra_kw.update(urlopen_kw)\n\u001b[32m--> \u001b[39m\u001b[32m278\u001b[39m \u001b[38;5;28;01mreturn\u001b[39;00m \u001b[38;5;28;43mself\u001b[39;49m\u001b[43m.\u001b[49m\u001b[43murlopen\u001b[49m\u001b[43m(\u001b[49m\u001b[43mmethod\u001b[49m\u001b[43m,\u001b[49m\u001b[43m \u001b[49m\u001b[43murl\u001b[49m\u001b[43m,\u001b[49m\u001b[43m \u001b[49m\u001b[43m*\u001b[49m\u001b[43m*\u001b[49m\u001b[43mextra_kw\u001b[49m\u001b[43m)\u001b[49m\n",
      "\u001b[36mFile \u001b[39m\u001b[32m~/Documents/PythonProject/stock_analysis/.venv/lib/python3.13/site-packages/urllib3/poolmanager.py:459\u001b[39m, in \u001b[36mPoolManager.urlopen\u001b[39m\u001b[34m(self, method, url, redirect, **kw)\u001b[39m\n\u001b[32m    457\u001b[39m     response = conn.urlopen(method, url, **kw)\n\u001b[32m    458\u001b[39m \u001b[38;5;28;01melse\u001b[39;00m:\n\u001b[32m--> \u001b[39m\u001b[32m459\u001b[39m     response = \u001b[43mconn\u001b[49m\u001b[43m.\u001b[49m\u001b[43murlopen\u001b[49m\u001b[43m(\u001b[49m\u001b[43mmethod\u001b[49m\u001b[43m,\u001b[49m\u001b[43m \u001b[49m\u001b[43mu\u001b[49m\u001b[43m.\u001b[49m\u001b[43mrequest_uri\u001b[49m\u001b[43m,\u001b[49m\u001b[43m \u001b[49m\u001b[43m*\u001b[49m\u001b[43m*\u001b[49m\u001b[43mkw\u001b[49m\u001b[43m)\u001b[49m\n\u001b[32m    461\u001b[39m redirect_location = redirect \u001b[38;5;129;01mand\u001b[39;00m response.get_redirect_location()\n\u001b[32m    462\u001b[39m \u001b[38;5;28;01mif\u001b[39;00m \u001b[38;5;129;01mnot\u001b[39;00m redirect_location:\n",
      "\u001b[36mFile \u001b[39m\u001b[32m~/Documents/PythonProject/stock_analysis/.venv/lib/python3.13/site-packages/urllib3/connectionpool.py:787\u001b[39m, in \u001b[36mHTTPConnectionPool.urlopen\u001b[39m\u001b[34m(self, method, url, body, headers, retries, redirect, assert_same_host, timeout, pool_timeout, release_conn, chunked, body_pos, preload_content, decode_content, **response_kw)\u001b[39m\n\u001b[32m    784\u001b[39m response_conn = conn \u001b[38;5;28;01mif\u001b[39;00m \u001b[38;5;129;01mnot\u001b[39;00m release_conn \u001b[38;5;28;01melse\u001b[39;00m \u001b[38;5;28;01mNone\u001b[39;00m\n\u001b[32m    786\u001b[39m \u001b[38;5;66;03m# Make the request on the HTTPConnection object\u001b[39;00m\n\u001b[32m--> \u001b[39m\u001b[32m787\u001b[39m response = \u001b[38;5;28;43mself\u001b[39;49m\u001b[43m.\u001b[49m\u001b[43m_make_request\u001b[49m\u001b[43m(\u001b[49m\n\u001b[32m    788\u001b[39m \u001b[43m    \u001b[49m\u001b[43mconn\u001b[49m\u001b[43m,\u001b[49m\n\u001b[32m    789\u001b[39m \u001b[43m    \u001b[49m\u001b[43mmethod\u001b[49m\u001b[43m,\u001b[49m\n\u001b[32m    790\u001b[39m \u001b[43m    \u001b[49m\u001b[43murl\u001b[49m\u001b[43m,\u001b[49m\n\u001b[32m    791\u001b[39m \u001b[43m    \u001b[49m\u001b[43mtimeout\u001b[49m\u001b[43m=\u001b[49m\u001b[43mtimeout_obj\u001b[49m\u001b[43m,\u001b[49m\n\u001b[32m    792\u001b[39m \u001b[43m    \u001b[49m\u001b[43mbody\u001b[49m\u001b[43m=\u001b[49m\u001b[43mbody\u001b[49m\u001b[43m,\u001b[49m\n\u001b[32m    793\u001b[39m \u001b[43m    \u001b[49m\u001b[43mheaders\u001b[49m\u001b[43m=\u001b[49m\u001b[43mheaders\u001b[49m\u001b[43m,\u001b[49m\n\u001b[32m    794\u001b[39m \u001b[43m    \u001b[49m\u001b[43mchunked\u001b[49m\u001b[43m=\u001b[49m\u001b[43mchunked\u001b[49m\u001b[43m,\u001b[49m\n\u001b[32m    795\u001b[39m \u001b[43m    \u001b[49m\u001b[43mretries\u001b[49m\u001b[43m=\u001b[49m\u001b[43mretries\u001b[49m\u001b[43m,\u001b[49m\n\u001b[32m    796\u001b[39m \u001b[43m    \u001b[49m\u001b[43mresponse_conn\u001b[49m\u001b[43m=\u001b[49m\u001b[43mresponse_conn\u001b[49m\u001b[43m,\u001b[49m\n\u001b[32m    797\u001b[39m \u001b[43m    \u001b[49m\u001b[43mpreload_content\u001b[49m\u001b[43m=\u001b[49m\u001b[43mpreload_content\u001b[49m\u001b[43m,\u001b[49m\n\u001b[32m    798\u001b[39m \u001b[43m    \u001b[49m\u001b[43mdecode_content\u001b[49m\u001b[43m=\u001b[49m\u001b[43mdecode_content\u001b[49m\u001b[43m,\u001b[49m\n\u001b[32m    799\u001b[39m \u001b[43m    \u001b[49m\u001b[43m*\u001b[49m\u001b[43m*\u001b[49m\u001b[43mresponse_kw\u001b[49m\u001b[43m,\u001b[49m\n\u001b[32m    800\u001b[39m \u001b[43m\u001b[49m\u001b[43m)\u001b[49m\n\u001b[32m    802\u001b[39m \u001b[38;5;66;03m# Everything went great!\u001b[39;00m\n\u001b[32m    803\u001b[39m clean_exit = \u001b[38;5;28;01mTrue\u001b[39;00m\n",
      "\u001b[36mFile \u001b[39m\u001b[32m~/Documents/PythonProject/stock_analysis/.venv/lib/python3.13/site-packages/urllib3/connectionpool.py:534\u001b[39m, in \u001b[36mHTTPConnectionPool._make_request\u001b[39m\u001b[34m(self, conn, method, url, body, headers, retries, timeout, chunked, response_conn, preload_content, decode_content, enforce_content_length)\u001b[39m\n\u001b[32m    532\u001b[39m \u001b[38;5;66;03m# Receive the response from the server\u001b[39;00m\n\u001b[32m    533\u001b[39m \u001b[38;5;28;01mtry\u001b[39;00m:\n\u001b[32m--> \u001b[39m\u001b[32m534\u001b[39m     response = \u001b[43mconn\u001b[49m\u001b[43m.\u001b[49m\u001b[43mgetresponse\u001b[49m\u001b[43m(\u001b[49m\u001b[43m)\u001b[49m\n\u001b[32m    535\u001b[39m \u001b[38;5;28;01mexcept\u001b[39;00m (BaseSSLError, \u001b[38;5;167;01mOSError\u001b[39;00m) \u001b[38;5;28;01mas\u001b[39;00m e:\n\u001b[32m    536\u001b[39m     \u001b[38;5;28mself\u001b[39m._raise_timeout(err=e, url=url, timeout_value=read_timeout)\n",
      "\u001b[36mFile \u001b[39m\u001b[32m~/Documents/PythonProject/stock_analysis/.venv/lib/python3.13/site-packages/urllib3/connection.py:565\u001b[39m, in \u001b[36mHTTPConnection.getresponse\u001b[39m\u001b[34m(self)\u001b[39m\n\u001b[32m    562\u001b[39m _shutdown = \u001b[38;5;28mgetattr\u001b[39m(\u001b[38;5;28mself\u001b[39m.sock, \u001b[33m\"\u001b[39m\u001b[33mshutdown\u001b[39m\u001b[33m\"\u001b[39m, \u001b[38;5;28;01mNone\u001b[39;00m)\n\u001b[32m    564\u001b[39m \u001b[38;5;66;03m# Get the response from http.client.HTTPConnection\u001b[39;00m\n\u001b[32m--> \u001b[39m\u001b[32m565\u001b[39m httplib_response = \u001b[38;5;28;43msuper\u001b[39;49m\u001b[43m(\u001b[49m\u001b[43m)\u001b[49m\u001b[43m.\u001b[49m\u001b[43mgetresponse\u001b[49m\u001b[43m(\u001b[49m\u001b[43m)\u001b[49m\n\u001b[32m    567\u001b[39m \u001b[38;5;28;01mtry\u001b[39;00m:\n\u001b[32m    568\u001b[39m     assert_header_parsing(httplib_response.msg)\n",
      "\u001b[36mFile \u001b[39m\u001b[32m/usr/local/Cellar/python@3.13/3.13.0_1/Frameworks/Python.framework/Versions/3.13/lib/python3.13/http/client.py:1428\u001b[39m, in \u001b[36mHTTPConnection.getresponse\u001b[39m\u001b[34m(self)\u001b[39m\n\u001b[32m   1426\u001b[39m \u001b[38;5;28;01mtry\u001b[39;00m:\n\u001b[32m   1427\u001b[39m     \u001b[38;5;28;01mtry\u001b[39;00m:\n\u001b[32m-> \u001b[39m\u001b[32m1428\u001b[39m         \u001b[43mresponse\u001b[49m\u001b[43m.\u001b[49m\u001b[43mbegin\u001b[49m\u001b[43m(\u001b[49m\u001b[43m)\u001b[49m\n\u001b[32m   1429\u001b[39m     \u001b[38;5;28;01mexcept\u001b[39;00m \u001b[38;5;167;01mConnectionError\u001b[39;00m:\n\u001b[32m   1430\u001b[39m         \u001b[38;5;28mself\u001b[39m.close()\n",
      "\u001b[36mFile \u001b[39m\u001b[32m/usr/local/Cellar/python@3.13/3.13.0_1/Frameworks/Python.framework/Versions/3.13/lib/python3.13/http/client.py:331\u001b[39m, in \u001b[36mHTTPResponse.begin\u001b[39m\u001b[34m(self)\u001b[39m\n\u001b[32m    329\u001b[39m \u001b[38;5;66;03m# read until we get a non-100 response\u001b[39;00m\n\u001b[32m    330\u001b[39m \u001b[38;5;28;01mwhile\u001b[39;00m \u001b[38;5;28;01mTrue\u001b[39;00m:\n\u001b[32m--> \u001b[39m\u001b[32m331\u001b[39m     version, status, reason = \u001b[38;5;28;43mself\u001b[39;49m\u001b[43m.\u001b[49m\u001b[43m_read_status\u001b[49m\u001b[43m(\u001b[49m\u001b[43m)\u001b[49m\n\u001b[32m    332\u001b[39m     \u001b[38;5;28;01mif\u001b[39;00m status != CONTINUE:\n\u001b[32m    333\u001b[39m         \u001b[38;5;28;01mbreak\u001b[39;00m\n",
      "\u001b[36mFile \u001b[39m\u001b[32m/usr/local/Cellar/python@3.13/3.13.0_1/Frameworks/Python.framework/Versions/3.13/lib/python3.13/http/client.py:292\u001b[39m, in \u001b[36mHTTPResponse._read_status\u001b[39m\u001b[34m(self)\u001b[39m\n\u001b[32m    291\u001b[39m \u001b[38;5;28;01mdef\u001b[39;00m\u001b[38;5;250m \u001b[39m\u001b[34m_read_status\u001b[39m(\u001b[38;5;28mself\u001b[39m):\n\u001b[32m--> \u001b[39m\u001b[32m292\u001b[39m     line = \u001b[38;5;28mstr\u001b[39m(\u001b[38;5;28;43mself\u001b[39;49m\u001b[43m.\u001b[49m\u001b[43mfp\u001b[49m\u001b[43m.\u001b[49m\u001b[43mreadline\u001b[49m\u001b[43m(\u001b[49m\u001b[43m_MAXLINE\u001b[49m\u001b[43m \u001b[49m\u001b[43m+\u001b[49m\u001b[43m \u001b[49m\u001b[32;43m1\u001b[39;49m\u001b[43m)\u001b[49m, \u001b[33m\"\u001b[39m\u001b[33miso-8859-1\u001b[39m\u001b[33m\"\u001b[39m)\n\u001b[32m    293\u001b[39m     \u001b[38;5;28;01mif\u001b[39;00m \u001b[38;5;28mlen\u001b[39m(line) > _MAXLINE:\n\u001b[32m    294\u001b[39m         \u001b[38;5;28;01mraise\u001b[39;00m LineTooLong(\u001b[33m\"\u001b[39m\u001b[33mstatus line\u001b[39m\u001b[33m\"\u001b[39m)\n",
      "\u001b[36mFile \u001b[39m\u001b[32m/usr/local/Cellar/python@3.13/3.13.0_1/Frameworks/Python.framework/Versions/3.13/lib/python3.13/socket.py:719\u001b[39m, in \u001b[36mSocketIO.readinto\u001b[39m\u001b[34m(self, b)\u001b[39m\n\u001b[32m    717\u001b[39m     \u001b[38;5;28;01mraise\u001b[39;00m \u001b[38;5;167;01mOSError\u001b[39;00m(\u001b[33m\"\u001b[39m\u001b[33mcannot read from timed out object\u001b[39m\u001b[33m\"\u001b[39m)\n\u001b[32m    718\u001b[39m \u001b[38;5;28;01mtry\u001b[39;00m:\n\u001b[32m--> \u001b[39m\u001b[32m719\u001b[39m     \u001b[38;5;28;01mreturn\u001b[39;00m \u001b[38;5;28;43mself\u001b[39;49m\u001b[43m.\u001b[49m\u001b[43m_sock\u001b[49m\u001b[43m.\u001b[49m\u001b[43mrecv_into\u001b[49m\u001b[43m(\u001b[49m\u001b[43mb\u001b[49m\u001b[43m)\u001b[49m\n\u001b[32m    720\u001b[39m \u001b[38;5;28;01mexcept\u001b[39;00m timeout:\n\u001b[32m    721\u001b[39m     \u001b[38;5;28mself\u001b[39m._timeout_occurred = \u001b[38;5;28;01mTrue\u001b[39;00m\n",
      "\u001b[31mKeyboardInterrupt\u001b[39m: "
     ]
    }
   ],
   "source": [
    "\n",
    "google_search = driver.find_element(By.CSS_SELECTOR, \"div.s6JM6d.ufC5Cb.EYIWQc\")\n",
    "\n",
    "# every article is in this div container \n",
    "articles = google_search.find_elements(By.CSS_SELECTOR, \"a.zReHs\")\n",
    "\n",
    "for article in articles:\n",
    "    try:  \n",
    "        article.click()\n",
    "        time.sleep(5)\n",
    "    except Exception as e:\n",
    "        print(f\"Could not click article: {e}\")\n",
    "        break\n",
    "    prev_page = driver.back()\n",
    "    time.sleep(5)\n",
    "    "
   ]
  },
  {
   "cell_type": "code",
   "execution_count": null,
   "id": "3a94b5c1",
   "metadata": {},
   "outputs": [],
   "source": []
  }
 ],
 "metadata": {
  "kernelspec": {
   "display_name": ".venv",
   "language": "python",
   "name": "python3"
  },
  "language_info": {
   "codemirror_mode": {
    "name": "ipython",
    "version": 3
   },
   "file_extension": ".py",
   "mimetype": "text/x-python",
   "name": "python",
   "nbconvert_exporter": "python",
   "pygments_lexer": "ipython3",
   "version": "3.13.0"
  }
 },
 "nbformat": 4,
 "nbformat_minor": 5
}
