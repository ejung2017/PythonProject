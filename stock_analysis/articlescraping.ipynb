{
 "cells": [
  {
   "cell_type": "code",
   "execution_count": 1,
   "id": "bf543696",
   "metadata": {},
   "outputs": [],
   "source": [
    "from selenium import webdriver\n",
    "from selenium.webdriver.chrome.service import Service\n",
    "from selenium.webdriver.chrome.options import Options\n",
    "from selenium.webdriver.common.by import By\n",
    "from selenium.common.exceptions import NoSuchElementException\n",
    "import pandas as pd\n",
    "import time\n",
    "\n",
    "driver_path = \"/usr/local/bin/chromedriver\"\n",
    "\n",
    "# Chrome Driver setup \n",
    "service = Service(driver_path)\n",
    "options = Options()\n",
    "options.add_argument(\"--start-maximized\")\n",
    "options.add_argument(\"user-agent=Mozilla/5.0 (Macintosh; Intel Mac OS X 10_15_7) AppleWebKit/537.36 Chrome/120 Safari/537.36\")"
   ]
  },
  {
   "cell_type": "code",
   "execution_count": 22,
   "id": "26a8b01f",
   "metadata": {},
   "outputs": [],
   "source": [
    "url_the_japan_times = \"https://www.google.com/search?as_q=Japan+interest+rate&as_epq=&as_oq=&as_eq=&as_nlo=&as_nhi=&lr=&cr=&as_qdr=all&as_sitesearch=https%3A%2F%2Fwww.japantimes.co.jp%2F&as_occt=any&as_filetype=&tbs=\"\n",
    "\n",
    "driver = webdriver.Chrome(service=service, options=options)\n",
    "driver.get(url_the_japan_times)\n",
    "time.sleep(10)"
   ]
  },
  {
   "cell_type": "code",
   "execution_count": 23,
   "id": "939596ad",
   "metadata": {},
   "outputs": [],
   "source": [
    "article_button = driver.find_element(By.CSS_SELECTOR, \"a.zReHs\") #h3.LC20lb.MBeuO.DKV0Md\n",
    "article_button.click()\n",
    "time.sleep(10)"
   ]
  },
  {
   "cell_type": "code",
   "execution_count": null,
   "id": "87df995b",
   "metadata": {},
   "outputs": [
    {
     "data": {
      "text/plain": [
       "['The Bank of Japan’s rate hike cycle will resume after \"only” a temporary pause, policy board member Hajime Takata warned, keeping his hawkish tone even after U.S. President Donald Trump clouded the economic outlook by threatening to impose tariffs on Japanese goods higher than those previously touted.',\n",
       " '\"I believe that the bank is currently only pausing its policy interest rate hike cycle and should continue to make a gear shift after a certain period of ‘wait and see,’” Takata said Thursday in a speech to local business leaders in Mie Prefecture.',\n",
       " '',\n",
       " 'Takata’s remarks made it clear that the BOJ is continuing to look for further opportunities to raise rates even after the prospects for a trade deal with the U.S. appeared to recede after Trump floated the idea of increasing tariffs to 35%, compared with a previous plan to hike an across-the-board duty to 24% starting next week.',\n",
       " 'Takata, considered a hawkish member of the central bank\\'s board, said authorities \"may need to nimbly shift back to the rate hike cycle in response to policy changes” in the U.S. His remarks indicate there’s still a chance of another hike this year depending on the effects of the levies.',\n",
       " 'Given high uncertainties regarding U.S. policies, \"the bank is required to conduct monetary policy in a more flexible manner without being too pessimistic,” he said.',\n",
       " 'Takata was speaking as Japan’s pace of inflation has stayed elevated at the highest level among Group of Seven major industrial nations. A key measure for the cost of living hit a fresh two-year high in May, and a record of the BOJ’s meeting last month reflected a shared awareness among officials that price growth is a little stronger than expected.',\n",
       " '\"Japan’s economy is at a stage where the price stability target is close to being achieved,” Takata said. \"The key to a further gear shift in monetary policy is the sustainability of positive corporate behavior.”',\n",
       " 'BOJ Gov. Kazuo Ueda has repeatedly said underlying inflation remains below the bank’s 2% target and he wants to see the trend rise before raising rates again. He also wants to confirm the likely magnitude of the economic impact from U.S. trade policies.',\n",
       " 'In previous speeches, Takata, a veteran economist and former bond analyst, has noted the need to raise borrowing costs as economic activity improves. Remarks of that nature in the weeks running up to the BOJ’s historic end of its massive monetary easing program in March 2024 helped investors prepare for the coming shift.',\n",
       " '\"Even if the economy remains robust at the moment, the longer concerns about tariffs remain, the greater the downward pressure on economic activity could become,” Takata said Thursday.',\n",
       " 'The BOJ will deliver its next policy decision on July 31, with more than 90% of BOJ watchers surveyed last month expecting the benchmark rate to be left at 0.5%.']"
      ]
     },
     "execution_count": 13,
     "metadata": {},
     "output_type": "execute_result"
    }
   ],
   "source": [
    "div_element = driver.find_element(By.XPATH, \"//div[@class='article-body']\")\n",
    "article_body = div_element.find_elements(By.TAG_NAME, \"p\")\n",
    "\n",
    "the_japan_times = []\n",
    "content_list = []\n",
    "\n",
    "# date\n",
    "date = driver.find_element(By.CSS_SELECTOR, \"div.publish-date\").text\n",
    "the_japan_times.append({\n",
    "    \"date\": date,\n",
    "    \"content\": []\n",
    "})\n",
    "for item in article_body: \n",
    "    try: \n",
    "        # paragraphs \n",
    "        paragraph = item.text\n",
    "        content_list.append(paragraph)\n",
    "        # the_japan_times[\"content\"].append(paragraph)\n",
    "\n",
    "    except Exception as e:\n",
    "        print(f\"Error extracting data: {e}\")\n",
    "        break \n",
    "\n",
    "content_list"
   ]
  },
  {
   "cell_type": "code",
   "execution_count": 18,
   "id": "9ca94bda",
   "metadata": {},
   "outputs": [
    {
     "data": {
      "text/plain": [
       "'The Bank of Japan’s rate hike cycle will resume after \"only” a temporary pause, policy board member Hajime Takata warned, keeping his hawkish tone even after U.S. President Donald Trump clouded the economic outlook by threatening to impose tariffs on Japanese goods higher than those previously touted. \"I believe that the bank is currently only pausing its policy interest rate hike cycle and should continue to make a gear shift after a certain period of ‘wait and see,’” Takata said Thursday in a speech to local business leaders in Mie Prefecture.  Takata’s remarks made it clear that the BOJ is continuing to look for further opportunities to raise rates even after the prospects for a trade deal with the U.S. appeared to recede after Trump floated the idea of increasing tariffs to 35%, compared with a previous plan to hike an across-the-board duty to 24% starting next week. Takata, considered a hawkish member of the central bank\\'s board, said authorities \"may need to nimbly shift back to the rate hike cycle in response to policy changes” in the U.S. His remarks indicate there’s still a chance of another hike this year depending on the effects of the levies. Given high uncertainties regarding U.S. policies, \"the bank is required to conduct monetary policy in a more flexible manner without being too pessimistic,” he said. Takata was speaking as Japan’s pace of inflation has stayed elevated at the highest level among Group of Seven major industrial nations. A key measure for the cost of living hit a fresh two-year high in May, and a record of the BOJ’s meeting last month reflected a shared awareness among officials that price growth is a little stronger than expected. \"Japan’s economy is at a stage where the price stability target is close to being achieved,” Takata said. \"The key to a further gear shift in monetary policy is the sustainability of positive corporate behavior.” BOJ Gov. Kazuo Ueda has repeatedly said underlying inflation remains below the bank’s 2% target and he wants to see the trend rise before raising rates again. He also wants to confirm the likely magnitude of the economic impact from U.S. trade policies. In previous speeches, Takata, a veteran economist and former bond analyst, has noted the need to raise borrowing costs as economic activity improves. Remarks of that nature in the weeks running up to the BOJ’s historic end of its massive monetary easing program in March 2024 helped investors prepare for the coming shift. \"Even if the economy remains robust at the moment, the longer concerns about tariffs remain, the greater the downward pressure on economic activity could become,” Takata said Thursday. The BOJ will deliver its next policy decision on July 31, with more than 90% of BOJ watchers surveyed last month expecting the benchmark rate to be left at 0.5%.'"
      ]
     },
     "execution_count": 18,
     "metadata": {},
     "output_type": "execute_result"
    }
   ],
   "source": [
    "content = \" \".join(content_list)\n",
    "content"
   ]
  },
  {
   "cell_type": "code",
   "execution_count": 19,
   "id": "33cc3500",
   "metadata": {},
   "outputs": [
    {
     "data": {
      "text/plain": [
       "[{'date': 'Jul 3, 2025',\n",
       "  'content': 'The Bank of Japan’s rate hike cycle will resume after \"only” a temporary pause, policy board member Hajime Takata warned, keeping his hawkish tone even after U.S. President Donald Trump clouded the economic outlook by threatening to impose tariffs on Japanese goods higher than those previously touted. \"I believe that the bank is currently only pausing its policy interest rate hike cycle and should continue to make a gear shift after a certain period of ‘wait and see,’” Takata said Thursday in a speech to local business leaders in Mie Prefecture.  Takata’s remarks made it clear that the BOJ is continuing to look for further opportunities to raise rates even after the prospects for a trade deal with the U.S. appeared to recede after Trump floated the idea of increasing tariffs to 35%, compared with a previous plan to hike an across-the-board duty to 24% starting next week. Takata, considered a hawkish member of the central bank\\'s board, said authorities \"may need to nimbly shift back to the rate hike cycle in response to policy changes” in the U.S. His remarks indicate there’s still a chance of another hike this year depending on the effects of the levies. Given high uncertainties regarding U.S. policies, \"the bank is required to conduct monetary policy in a more flexible manner without being too pessimistic,” he said. Takata was speaking as Japan’s pace of inflation has stayed elevated at the highest level among Group of Seven major industrial nations. A key measure for the cost of living hit a fresh two-year high in May, and a record of the BOJ’s meeting last month reflected a shared awareness among officials that price growth is a little stronger than expected. \"Japan’s economy is at a stage where the price stability target is close to being achieved,” Takata said. \"The key to a further gear shift in monetary policy is the sustainability of positive corporate behavior.” BOJ Gov. Kazuo Ueda has repeatedly said underlying inflation remains below the bank’s 2% target and he wants to see the trend rise before raising rates again. He also wants to confirm the likely magnitude of the economic impact from U.S. trade policies. In previous speeches, Takata, a veteran economist and former bond analyst, has noted the need to raise borrowing costs as economic activity improves. Remarks of that nature in the weeks running up to the BOJ’s historic end of its massive monetary easing program in March 2024 helped investors prepare for the coming shift. \"Even if the economy remains robust at the moment, the longer concerns about tariffs remain, the greater the downward pressure on economic activity could become,” Takata said Thursday. The BOJ will deliver its next policy decision on July 31, with more than 90% of BOJ watchers surveyed last month expecting the benchmark rate to be left at 0.5%.'}]"
      ]
     },
     "execution_count": 19,
     "metadata": {},
     "output_type": "execute_result"
    }
   ],
   "source": [
    "the_japan_times[0][\"content\"] = content\n",
    "the_japan_times"
   ]
  },
  {
   "cell_type": "code",
   "execution_count": 28,
   "id": "388b1053",
   "metadata": {},
   "outputs": [
    {
     "data": {
      "text/plain": [
       "[{'date': 'Jul 3, 2025',\n",
       "  'content': 'Bank of Japan watchers brought forward their forecast for when they expect the next interest rate hike, after clarity over trade increased with U.S. President Donald Trump announcing deals, including one with Japan. Some 42% of 45 economists surveyed by Bloomberg anticipate the move in October, jumping from 32% in the previous survey. Analyst views were last canvassed before the announcement of Japan’s trade pact with the U.S. on July 22, and last week’s BOJ policy decision. Those predicting it in January slightly dropped to a third, while those expecting December doubled to 11%.  No one foresees action at the next meeting in September as their base case, but in a risk scenario, about a quarter said the hike could come as soon as next month. Some 60% said the next hike could come as early as October. The results show that many BOJ watchers are convinced the next increase in borrowing costs is coming closer, even after Gov. Kazuo Ueda signaled caution on Thursday. Analysts pointed to the fact that the BOJ upgraded its inflation forecasts more than expected and raised its risk balance view as evidence the bank is making progress toward a rate move. \"This meeting laid the groundwork for the next hike,” Kento Minami, senior economist at Daiwa Securities, wrote in his survey response. \"Considering upside price risks from food and potentially a weak yen, the condition is suited for another move this year once resilience in corporate activity is confirmed.” The BOJ boosted its price projection sharply to 2.7% for this fiscal year from 2.2% in its quarterly outlook report released Thursday. The bank now sees the risk for prices as generally balanced after seeing only downside risks three months ago. Still, the hawkish signals in the report were toned down during Ueda’s post-meeting news conference. The governor repeatedly highlighted the fact that though a little less than before, uncertainty remains high, and indicated little urgency toward a hike by saying there’s a low risk of falling behind the curve in responding to inflation. Naka Matsuzawa, chief strategist at Nomura Securities, concluded that Ueda’s news conference and the BOJ’s statements were hawkish overall, partly because it’s natural for a central banker to deny the likelihood of falling behind the curve as it’s taboo to be in that position. Some 49% of surveyed economists said that Ueda’s remarks at his news conference were neutral, while 44% said it was dovish. Only 5% said it was hawkish. The comments led the yen to break a key psychological level of ¥150 per dollar, reaching its weakest point since March on Friday. After yen weakness has played a major role in pushing the BOJ toward a policy shift in the past, analysts say it could happen again this time. Some 44% said the possibility is rising for the yen to become a key factor to nudge the bank toward another hike, while 35% didn’t see such an increase. About a fifth said it’s hard to tell. \"If there’s considerable yen depreciation, there’s a risk scenario where the BOJ may opt for an earlier rate hike while highlighting upside movements in underlying inflation,” said Takeshi Yamaguchi, chief Japan economist at Morgan Stanley MUFG Securities. In addition to still unclear economic pressure from tariffs and a weak yen, many analysts cited political uncertainty as a potential hurdle for the central bank as it navigates monetary policy. Prime Minister Shigeru Ishiba is facing calls to resign after he faced a historic defeat in the Upper House election on July 20, losing a majority in both houses of parliament for his ruling coalition. Some 71% of the surveyed economists said that there is a risk that Ueda’s board won’t be able to raise rates this year if Ishiba is replaced by a monetary easing advocate, while 19% said that won’t be the case. With Ueda’s repeated message that he wants to parse data broadly and carefully before considering the next hike, some BOJ watchers doubt whether the BOJ will have enough data on hand to say another rate change is warranted this year. \"It takes time to confirm the impact of tariffs in data, even if the effects end up being smaller than expected,” said Shigeto Nagai, former head of BOJ’s international department and currently the head of Oxford Economics in Japan. \"It’s impossible to raise rates again this year.”'}]"
      ]
     },
     "execution_count": 28,
     "metadata": {},
     "output_type": "execute_result"
    }
   ],
   "source": [
    "the_japan_times"
   ]
  },
  {
   "cell_type": "code",
   "execution_count": null,
   "id": "af6bd1fa",
   "metadata": {},
   "outputs": [],
   "source": [
    "# go back to previous page (google news list)\n",
    "prev_page = driver.back()\n",
    "time.sleep(5)\n"
   ]
  },
  {
   "cell_type": "code",
   "execution_count": 26,
   "id": "a0fe7fc5",
   "metadata": {},
   "outputs": [],
   "source": [
    "# Converting the results into a DataFrame \n",
    "the_japan_times_df = pd.DataFrame(the_japan_times)\n",
    "\n",
    "# Saving into .csv\n",
    "the_japan_times_df.to_csv(\"the_japan_times_articles.csv\", index=False)"
   ]
  },
  {
   "cell_type": "code",
   "execution_count": null,
   "id": "5262639d",
   "metadata": {},
   "outputs": [
    {
     "ename": "KeyboardInterrupt",
     "evalue": "",
     "output_type": "error",
     "traceback": [
      "\u001b[31m---------------------------------------------------------------------------\u001b[39m",
      "\u001b[31mKeyboardInterrupt\u001b[39m                         Traceback (most recent call last)",
      "\u001b[36mCell\u001b[39m\u001b[36m \u001b[39m\u001b[32mIn[29]\u001b[39m\u001b[32m, line 48\u001b[39m\n\u001b[32m     45\u001b[39m         \u001b[38;5;28mprint\u001b[39m(\u001b[33mf\u001b[39m\u001b[33m\"\u001b[39m\u001b[33mError extracting data: \u001b[39m\u001b[38;5;132;01m{\u001b[39;00me\u001b[38;5;132;01m}\u001b[39;00m\u001b[33m\"\u001b[39m)\n\u001b[32m     47\u001b[39m     prev_page = driver.back()\n\u001b[32m---> \u001b[39m\u001b[32m48\u001b[39m     \u001b[43mtime\u001b[49m\u001b[43m.\u001b[49m\u001b[43msleep\u001b[49m\u001b[43m(\u001b[49m\u001b[32;43m5\u001b[39;49m\u001b[43m)\u001b[49m\n\u001b[32m     50\u001b[39m \u001b[38;5;28;01mtry\u001b[39;00m:\n\u001b[32m     51\u001b[39m     next_button = driver.find_element(By.ID, \u001b[33m\"\u001b[39m\u001b[33mpnnext\u001b[39m\u001b[33m\"\u001b[39m) \n",
      "\u001b[31mKeyboardInterrupt\u001b[39m: "
     ]
    }
   ],
   "source": [
    "the_japan_times_articles = []\n",
    "\n",
    "# jul 2024 ~ now \n",
    "url_the_japan_times = \"https://www.google.com/search?q=Japan+interest+rate+site%3Ahttps%3A%2F%2Fwww.japantimes.co.jp%2F&lr=&sca_esv=29b06b32b8894029&as_qdr=all&source=lnt&tbs=cdr%3A1%2Ccd_min%3A1%2F1%2F2024%2Ccd_max%3A&tbm=\"\n",
    "\n",
    "driver = webdriver.Chrome(service=service, options=options)\n",
    "driver.get(url_the_japan_times)\n",
    "time.sleep(20)\n",
    "\n",
    "while True: \n",
    "    article_list = driver.find_elements(By.CSS_SELECTOR, \"div.s6JM6d.ufC5Cb.EYIWQc\")\n",
    "\n",
    "    #instead of going to all 10 articles on one page, it scraps first article -> next page's first article -> ...\n",
    "    for article in article_list:\n",
    "        try:  \n",
    "            article_button = driver.find_element(By.CSS_SELECTOR, \"a.zReHs\") #h3.LC20lb.MBeuO.DKV0Md\n",
    "            article_button.click()\n",
    "            time.sleep(20)\n",
    "\n",
    "            # date\n",
    "            date = driver.find_element(By.CSS_SELECTOR, \"div.publish-date\").text\n",
    "            the_japan_times_articles.append({\n",
    "                \"date\": date,\n",
    "                \"content\": []\n",
    "            })\n",
    "\n",
    "            # paragraphs \n",
    "            div_element = driver.find_element(By.XPATH, \"//div[@class='article-body']\")\n",
    "            article_body = div_element.find_elements(By.TAG_NAME, \"p\")\n",
    "            \n",
    "            content_list = []\n",
    "\n",
    "            for item in article_body: \n",
    "                try: \n",
    "                    # paragraphs \n",
    "                    paragraph = item.text\n",
    "                    content_list.append(paragraph)\n",
    "\n",
    "                except Exception as e:\n",
    "                    print(f\"Error extracting data: {e}\")\n",
    "                    break \n",
    "\n",
    "            content = \" \".join(content_list)\n",
    "                #it can't be [0], this has to be iterated too  \n",
    "            the_japan_times_articles[0][\"content\"] = content\n",
    "        except Exception as e:\n",
    "            print(f\"Error extracting data: {e}\")\n",
    "    \n",
    "        prev_page = driver.back()\n",
    "        time.sleep(5)\n",
    "\n",
    "    try:\n",
    "        next_button = driver.find_element(By.ID, \"pnnext\") \n",
    "        # next_button = driver.find_element(By.CSS_SELECTOR, \"td.d6cvqb.BBwThe a\")\n",
    "        next_button.click()\n",
    "        time.sleep(5)\n",
    "    except Exception as e:\n",
    "        print(f\"Error: {e}\")\n",
    "        break\n",
    "    "
   ]
  },
  {
   "cell_type": "code",
   "execution_count": 30,
   "id": "c69d6e35",
   "metadata": {},
   "outputs": [
    {
     "data": {
      "text/plain": [
       "[{'date': 'Aug 3, 2025',\n",
       "  'content': 'The Bank of Japan’s rationale for its surprise rate increase last week has been met with skepticism from analysts doubtful about whether the economy is really on track to meet central bank projections. ”The BOJ’s economic outlook appears to be a bit bullish,” said Yutaro Suzuki, an economist at Daiwa Securities, who questioned the bank’s assumptions on consumption in particular.  At its policy meeting in July, the central bank voted to increase its short-term policy rate target to 0.25% from a range of 0% to 0.1%, although the majority of BOJ watchers had expected the bank to wait until September or October to up rates. The move was widely seen by analysts as a measure to defend the Japanese currency, which plummeted to a 38-year low in early July, but central bank Gov. Kazuo Ueda explained that the decision was mainly based on inflation, growth, wage readings and forecasts. “As for consumption, although price increases seem to be having an effect, it has remained resilient,” Ueda said. “A rising-wage trend is expected to spread wider, and increases in income will sustain consumption,” based on government wage data from April and May and the central bank’s own survey, he noted in reply to a question about why the central bank didn’t wait until September and the receipt of more data to make a move. “We do not believe the rate hike will have a significant negative impact on the economy,” he added. Ueda noted that the adjustment made was slight and that rates are still at very low levels, and he added that the central bank will continue to raise rates as long as the economy and prices are on track. A number of BOJ watchers believe the central bank raised rates in a hasty manner due to pressure from lawmakers to prop up the yen in order to lower the cost of imported goods for struggling households. In terms of wage growth, analysts generally agree with the central bank. Government data that came out earlier this week are reinforcing that view. Growth in real cash earnings turned positive for the first time in 27 months in June, with inflation-adjusted pay that month rising 1.1% year-on-year. Many economists expect that real wage growth will likely stay in positive territory for a while, especially following the historic 5.1% increase in wages agreed upon during annual spring negotiations involving large companies and labor unions. Some analysts are, however, skeptical about consumption actually being stimulated, saying that positive wage growth will not necessarily guarantee that. Separate data released this week show that household spending declined 1.4% in June from a year earlier, which was worse than a median market forecast for a 0.9% drop in a Reuters survey. Suzuki of Daiwa Securities said that positive real wage growth will likely improve sentiment toward spending to some extent, but “I doubt if that’s enough to give a real boost to consumption,” considering the negative growth of real wages over the past two years. The outlook for the economy and wealth effect of stock prices are important factors for consumption in Japan, noted Daiju Aoki, regional chief investment officer at UBS SuMi Trust Wealth Management in Tokyo. The stock market has been rattled by the surprise rate increase by the BOJ, with the 225-issue Nikkei average plunging by more than 10% since July 31 when the BOJ raised rates. “The BOJ’s hasty rate hike contributed to market volatility, so just because real wage growth has turned positive,” it’s unlikely that consumption this summer will be boosted, Aoki said, adding that the BOJ probably won’t be able to introduce another rate increase until next year. A summary of opinions from the July meeting released on Thursday shows that one BOJ board member said that the central bank should “raise the policy interest rate in a timely and gradual manner” based on the assumption that the BOJ will achieve its inflation target in the second half of fiscal 2025. BOJ Deputy Gov. Shinichi Uchida said in a speech Wednesday that the central bank will not raise rates when the markets are unstable.'},\n",
       " {'date': 'Jan 23, 2025', 'content': []},\n",
       " {'date': 'Aug 8, 2024', 'content': []}]"
      ]
     },
     "execution_count": 30,
     "metadata": {},
     "output_type": "execute_result"
    }
   ],
   "source": [
    "the_japan_times_articles"
   ]
  }
 ],
 "metadata": {
  "kernelspec": {
   "display_name": ".venv",
   "language": "python",
   "name": "python3"
  },
  "language_info": {
   "codemirror_mode": {
    "name": "ipython",
    "version": 3
   },
   "file_extension": ".py",
   "mimetype": "text/x-python",
   "name": "python",
   "nbconvert_exporter": "python",
   "pygments_lexer": "ipython3",
   "version": "3.13.0"
  }
 },
 "nbformat": 4,
 "nbformat_minor": 5
}
