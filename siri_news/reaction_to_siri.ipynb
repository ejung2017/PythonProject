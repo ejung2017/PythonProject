{
 "cells": [
  {
   "cell_type": "code",
   "execution_count": 54,
   "id": "b35335da",
   "metadata": {},
   "outputs": [],
   "source": [
    "url = \"https://www.google.com/search?q=wwdc+siri&tbs=cdr%3A1%2Ccd_min%3A6%2F10%2F2025%2Ccd_max%3A6%2F14%2F2025&tbm=nws\"\n"
   ]
  },
  {
   "cell_type": "code",
   "execution_count": null,
   "id": "b730072c",
   "metadata": {},
   "outputs": [],
   "source": [
    "from selenium import webdriver\n",
    "from selenium.webdriver.chrome.service import Service\n",
    "from selenium.webdriver.chrome.options import Options\n",
    "from selenium.webdriver.common.by import By\n",
    "from selenium.common.exceptions import NoSuchElementException\n",
    "import pandas as pd\n",
    "import time\n",
    "import re\n",
    "\n",
    "driver_path = \"/usr/local/bin/chromedriver\" #output of \"which chromedriver\"\n",
    "# 1. ChromeDriver Setup\n",
    "service = Service(driver_path)  # Modifying the path to suit the local environment\n",
    "options = Options()\n",
    "options.add_argument(\"--start-maximized\")\n",
    "options.add_argument(\"user-agent=Mozilla/5.0 (Macintosh; Intel Mac OS X 10_15_7) AppleWebKit/537.36 Chrome/120 Safari/537.36\")\n",
    "\n",
    "driver = webdriver.Chrome(service=service, options=options)\n",
    "\n",
    "driver.get(url)\n",
    "time.sleep(3)\n"
   ]
  },
  {
   "cell_type": "code",
   "execution_count": 61,
   "id": "4ca102e0",
   "metadata": {},
   "outputs": [],
   "source": [
    "news_data = []"
   ]
  },
  {
   "cell_type": "code",
   "execution_count": null,
   "id": "10434f60",
   "metadata": {},
   "outputs": [],
   "source": [
    "next_button = driver.find_element(By.CSS_SELECTOR, \"td[class='NKTSme'] a\") #li.a-last a\n",
    "# next_button.click()\n",
    "\n",
    "page = 1\n",
    "max_pages = 5  # Up to 5 Pages\n",
    "\n",
    "# while page <= max_pages:\n",
    "# print(f\"Collecting info on 📄 page {page}...\")\n",
    "# Clicking next page\n",
    "    # try:\n",
    "        # next_button = driver.find_element(By.CSS_SELECTOR, \"a[aria-label='Page 1']\") #all the pages are set with this class so it goes from page 1 -> 2 -> 1 -> .. \n",
    "        # next_button.click()\n",
    "        # page += 1\n",
    "        # time.sleep(3)\n",
    "    # except NoSuchElementException:\n",
    "    #     print(\"⛔️ No more pages ahead.\")\n",
    "    #     break\n",
    "\n",
    "# For now I've changed the 'Page {number}' from 1 to 10 to scrape total 96 news articles (page 10 only shows 6 articles)\n",
    "next_button = driver.find_element(By.CSS_SELECTOR, \"a[aria-label='Page 10']\") \n",
    "next_button.click()\n",
    "time.sleep(3)"
   ]
  },
  {
   "cell_type": "code",
   "execution_count": 88,
   "id": "9409c165",
   "metadata": {},
   "outputs": [],
   "source": [
    "# Find the news items (using CSS selectors, adjust as needed)\n",
    "news_items = driver.find_elements(By.CSS_SELECTOR, \"div.SoaBEf\") #div.SoaBEf\n",
    "\n",
    "# Extract data from each item\n",
    "for item in news_items:\n",
    "    try:\n",
    "        # Extract headline\n",
    "        headline = item.find_element(By.CSS_SELECTOR, \"div.n0jPhd.ynAwRc.MBeuO.nDgy9d\").text #n0jPhd ynAwRc MBeuO nDgy9d\n",
    "\n",
    "        # Extract source (adjust selector if needed)\n",
    "        source = item.find_element(By.CSS_SELECTOR, \"div.MgUUmf.NUnG9d\").text\n",
    "\n",
    "        # Extract snippet (adjust selector if needed)\n",
    "        intro = item.find_element(By.CSS_SELECTOR, \"div.GI74Re.nDgy9d\").text\n",
    "\n",
    "        news_data.append({\n",
    "            \"headline\": headline,\n",
    "            \"source\": source,\n",
    "            \"intro\": intro\n",
    "        })\n",
    "    except Exception as e:\n",
    "        print(f\"Error extracting data: {e}\")\n",
    "\n",
    "    \n",
    "# 5. Converting the results into a DataFrame \n",
    "df = pd.DataFrame(news_data)\n",
    "\n",
    "# 6. Saving into .csv\n",
    "df.to_csv(\"siri_news.csv\", index=False)\n",
    "\n",
    "# Close the browser\n",
    "# driver.quit()"
   ]
  },
  {
   "cell_type": "code",
   "execution_count": 91,
   "id": "a6a462ee",
   "metadata": {},
   "outputs": [
    {
     "data": {
      "text/html": [
       "<div>\n",
       "<style scoped>\n",
       "    .dataframe tbody tr th:only-of-type {\n",
       "        vertical-align: middle;\n",
       "    }\n",
       "\n",
       "    .dataframe tbody tr th {\n",
       "        vertical-align: top;\n",
       "    }\n",
       "\n",
       "    .dataframe thead th {\n",
       "        text-align: right;\n",
       "    }\n",
       "</style>\n",
       "<table border=\"1\" class=\"dataframe\">\n",
       "  <thead>\n",
       "    <tr style=\"text-align: right;\">\n",
       "      <th></th>\n",
       "      <th>headline</th>\n",
       "      <th>source</th>\n",
       "      <th>intro</th>\n",
       "    </tr>\n",
       "  </thead>\n",
       "  <tbody>\n",
       "    <tr>\n",
       "      <th>0</th>\n",
       "      <td>WWDC: Yes but Siri will get smart one day, but...</td>\n",
       "      <td>Apple Must</td>\n",
       "      <td>At the edge of WWDC 2025 Apple confessed that ...</td>\n",
       "    </tr>\n",
       "    <tr>\n",
       "      <th>1</th>\n",
       "      <td>Apple WWDC Interview: Craig Federighi and Joz ...</td>\n",
       "      <td>Tom's Guide</td>\n",
       "      <td>Bottom line. Apple Intelligence is still very ...</td>\n",
       "    </tr>\n",
       "    <tr>\n",
       "      <th>2</th>\n",
       "      <td>Apple Says Personalized Siri Features Shown at...</td>\n",
       "      <td>MacRumors</td>\n",
       "      <td>Apple first announced the personalized Siri fe...</td>\n",
       "    </tr>\n",
       "    <tr>\n",
       "      <th>3</th>\n",
       "      <td>iOS 26 screenshots could be an intriguing prev...</td>\n",
       "      <td>Engadget</td>\n",
       "      <td>But, as someone who takes too many screenshots...</td>\n",
       "    </tr>\n",
       "    <tr>\n",
       "      <th>4</th>\n",
       "      <td>Apple pushes Siri overhaul to 2026 after initi...</td>\n",
       "      <td>DIGITIMES Asia</td>\n",
       "      <td>Apple executives have confirmed that the compa...</td>\n",
       "    </tr>\n",
       "  </tbody>\n",
       "</table>\n",
       "</div>"
      ],
      "text/plain": [
       "                                            headline          source  \\\n",
       "0  WWDC: Yes but Siri will get smart one day, but...      Apple Must   \n",
       "1  Apple WWDC Interview: Craig Federighi and Joz ...     Tom's Guide   \n",
       "2  Apple Says Personalized Siri Features Shown at...       MacRumors   \n",
       "3  iOS 26 screenshots could be an intriguing prev...        Engadget   \n",
       "4  Apple pushes Siri overhaul to 2026 after initi...  DIGITIMES Asia   \n",
       "\n",
       "                                               intro  \n",
       "0  At the edge of WWDC 2025 Apple confessed that ...  \n",
       "1  Bottom line. Apple Intelligence is still very ...  \n",
       "2  Apple first announced the personalized Siri fe...  \n",
       "3  But, as someone who takes too many screenshots...  \n",
       "4  Apple executives have confirmed that the compa...  "
      ]
     },
     "execution_count": 91,
     "metadata": {},
     "output_type": "execute_result"
    }
   ],
   "source": [
    "df.head()"
   ]
  },
  {
   "cell_type": "code",
   "execution_count": 89,
   "id": "d6ea6072",
   "metadata": {},
   "outputs": [
    {
     "data": {
      "text/plain": [
       "96"
      ]
     },
     "execution_count": 89,
     "metadata": {},
     "output_type": "execute_result"
    }
   ],
   "source": [
    "len(df)"
   ]
  },
  {
   "cell_type": "code",
   "execution_count": 93,
   "id": "7faeaada",
   "metadata": {},
   "outputs": [
    {
     "name": "stdout",
     "output_type": "stream",
     "text": [
      "<class 'pandas.core.frame.DataFrame'>\n",
      "RangeIndex: 96 entries, 0 to 95\n",
      "Data columns (total 3 columns):\n",
      " #   Column    Non-Null Count  Dtype \n",
      "---  ------    --------------  ----- \n",
      " 0   headline  96 non-null     object\n",
      " 1   source    96 non-null     object\n",
      " 2   intro     96 non-null     object\n",
      "dtypes: object(3)\n",
      "memory usage: 2.4+ KB\n"
     ]
    }
   ],
   "source": [
    "df.info()"
   ]
  }
 ],
 "metadata": {
  "kernelspec": {
   "display_name": "venv",
   "language": "python",
   "name": "python3"
  },
  "language_info": {
   "codemirror_mode": {
    "name": "ipython",
    "version": 3
   },
   "file_extension": ".py",
   "mimetype": "text/x-python",
   "name": "python",
   "nbconvert_exporter": "python",
   "pygments_lexer": "ipython3",
   "version": "3.12.7"
  }
 },
 "nbformat": 4,
 "nbformat_minor": 5
}
