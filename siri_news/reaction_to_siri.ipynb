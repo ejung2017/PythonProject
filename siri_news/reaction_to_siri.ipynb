{
 "cells": [
  {
   "cell_type": "code",
   "execution_count": 100,
   "id": "b35335da",
   "metadata": {},
   "outputs": [],
   "source": [
    "url = \"https://www.google.com/search?q=wwdc+siri&tbs=cdr%3A1%2Ccd_min%3A6%2F10%2F2025%2Ccd_max%3A6%2F14%2F2025&tbm=nws\"\n"
   ]
  },
  {
   "cell_type": "code",
   "execution_count": null,
   "id": "b730072c",
   "metadata": {},
   "outputs": [],
   "source": [
    "from selenium import webdriver\n",
    "from selenium.webdriver.chrome.service import Service\n",
    "from selenium.webdriver.chrome.options import Options\n",
    "from selenium.webdriver.common.by import By\n",
    "from selenium.common.exceptions import NoSuchElementException\n",
    "import pandas as pd\n",
    "import time\n",
    "import re\n",
    "\n",
    "driver_path = \"/usr/local/bin/chromedriver\" #output of \"which chromedriver\"\n",
    "# 1. ChromeDriver Setup\n",
    "service = Service(driver_path)  # Modifying the path to suit the local environment\n",
    "options = Options()\n",
    "options.add_argument(\"--start-maximized\")\n",
    "options.add_argument(\"user-agent=Mozilla/5.0 (Macintosh; Intel Mac OS X 10_15_7) AppleWebKit/537.36 Chrome/120 Safari/537.36\")\n",
    "\n",
    "driver = webdriver.Chrome(service=service, options=options)\n",
    "\n",
    "driver.get(url)\n",
    "time.sleep(10)\n"
   ]
  },
  {
   "cell_type": "code",
   "execution_count": null,
   "id": "10434f60",
   "metadata": {},
   "outputs": [
    {
     "name": "stdout",
     "output_type": "stream",
     "text": [
      "Error: Message: no such element: Unable to locate element: {\"method\":\"css selector\",\"selector\":\"[id=\"pnnext\"]\"}\n",
      "  (Session info: chrome=138.0.7204.49); For documentation on this error, please visit: https://www.selenium.dev/documentation/webdriver/troubleshooting/errors#no-such-element-exception\n",
      "Stacktrace:\n",
      "0   chromedriver                        0x000000010b60b728 chromedriver + 5891880\n",
      "1   chromedriver                        0x000000010b602e7a chromedriver + 5856890\n",
      "2   chromedriver                        0x000000010b0d3400 chromedriver + 418816\n",
      "3   chromedriver                        0x000000010b12522b chromedriver + 754219\n",
      "4   chromedriver                        0x000000010b125441 chromedriver + 754753\n",
      "5   chromedriver                        0x000000010b175cd4 chromedriver + 1084628\n",
      "6   chromedriver                        0x000000010b14b50d chromedriver + 910605\n",
      "7   chromedriver                        0x000000010b173073 chromedriver + 1073267\n",
      "8   chromedriver                        0x000000010b14b2b3 chromedriver + 910003\n",
      "9   chromedriver                        0x000000010b117507 chromedriver + 697607\n",
      "10  chromedriver                        0x000000010b118171 chromedriver + 700785\n",
      "11  chromedriver                        0x000000010b5c94d0 chromedriver + 5620944\n",
      "12  chromedriver                        0x000000010b5cd45f chromedriver + 5637215\n",
      "13  chromedriver                        0x000000010b5a48e2 chromedriver + 5470434\n",
      "14  chromedriver                        0x000000010b5cddcf chromedriver + 5639631\n",
      "15  chromedriver                        0x000000010b5930a4 chromedriver + 5398692\n",
      "16  chromedriver                        0x000000010b5f0688 chromedriver + 5781128\n",
      "17  chromedriver                        0x000000010b5f0850 chromedriver + 5781584\n",
      "18  chromedriver                        0x000000010b602a41 chromedriver + 5855809\n",
      "19  libsystem_pthread.dylib             0x00007ff8140e0df1 _pthread_start + 99\n",
      "20  libsystem_pthread.dylib             0x00007ff8140dc857 thread_start + 15\n",
      "\n"
     ]
    }
   ],
   "source": [
    "news_data = []\n",
    "\n",
    "while True:\n",
    "    # Find the news items (using CSS selectors, adjust as needed)\n",
    "    news_items = driver.find_elements(By.CSS_SELECTOR, \"div.SoaBEf\") #div.SoaBEf\n",
    "    # Extract data from each item\n",
    "    for item in news_items:\n",
    "        try:\n",
    "            # Extract headline\n",
    "            headline = item.find_element(By.CSS_SELECTOR, \"div.n0jPhd.ynAwRc.MBeuO.nDgy9d\").text #n0jPhd ynAwRc MBeuO nDgy9d\n",
    "\n",
    "            # Extract source (adjust selector if needed)\n",
    "            source = item.find_element(By.CSS_SELECTOR, \"div.MgUUmf.NUnG9d\").text\n",
    "\n",
    "            # Extract snippet (adjust selector if needed)\n",
    "            intro = item.find_element(By.CSS_SELECTOR, \"div.GI74Re.nDgy9d\").text\n",
    "\n",
    "            news_data.append({\n",
    "                \"headline\": headline,\n",
    "                \"source\": source,\n",
    "                \"intro\": intro\n",
    "            })\n",
    "        except Exception as e:\n",
    "            print(f\"Error extracting data: {e}\")\n",
    "    try:\n",
    "        next_button = driver.find_element(By.ID, \"pnnext\") \n",
    "        # next_button = driver.find_element(By.CSS_SELECTOR, \"td.d6cvqb.BBwThe a\")\n",
    "        next_button.click()\n",
    "        time.sleep(5)\n",
    "    except Exception as e:\n",
    "        print(f\"Error: {e}\")\n",
    "        break\n",
    "    \n",
    "# 5. Converting the results into a DataFrame \n",
    "df = pd.DataFrame(news_data)\n",
    "\n",
    "# 6. Saving into .csv\n",
    "df.to_csv(\"siri_news.csv\", index=False)\n",
    "\n",
    "# Close the browser\n",
    "driver.quit()\n"
   ]
  },
  {
   "cell_type": "code",
   "execution_count": 91,
   "id": "a6a462ee",
   "metadata": {},
   "outputs": [
    {
     "data": {
      "text/html": [
       "<div>\n",
       "<style scoped>\n",
       "    .dataframe tbody tr th:only-of-type {\n",
       "        vertical-align: middle;\n",
       "    }\n",
       "\n",
       "    .dataframe tbody tr th {\n",
       "        vertical-align: top;\n",
       "    }\n",
       "\n",
       "    .dataframe thead th {\n",
       "        text-align: right;\n",
       "    }\n",
       "</style>\n",
       "<table border=\"1\" class=\"dataframe\">\n",
       "  <thead>\n",
       "    <tr style=\"text-align: right;\">\n",
       "      <th></th>\n",
       "      <th>headline</th>\n",
       "      <th>source</th>\n",
       "      <th>intro</th>\n",
       "    </tr>\n",
       "  </thead>\n",
       "  <tbody>\n",
       "    <tr>\n",
       "      <th>0</th>\n",
       "      <td>WWDC: Yes but Siri will get smart one day, but...</td>\n",
       "      <td>Apple Must</td>\n",
       "      <td>At the edge of WWDC 2025 Apple confessed that ...</td>\n",
       "    </tr>\n",
       "    <tr>\n",
       "      <th>1</th>\n",
       "      <td>Apple WWDC Interview: Craig Federighi and Joz ...</td>\n",
       "      <td>Tom's Guide</td>\n",
       "      <td>Bottom line. Apple Intelligence is still very ...</td>\n",
       "    </tr>\n",
       "    <tr>\n",
       "      <th>2</th>\n",
       "      <td>Apple Says Personalized Siri Features Shown at...</td>\n",
       "      <td>MacRumors</td>\n",
       "      <td>Apple first announced the personalized Siri fe...</td>\n",
       "    </tr>\n",
       "    <tr>\n",
       "      <th>3</th>\n",
       "      <td>iOS 26 screenshots could be an intriguing prev...</td>\n",
       "      <td>Engadget</td>\n",
       "      <td>But, as someone who takes too many screenshots...</td>\n",
       "    </tr>\n",
       "    <tr>\n",
       "      <th>4</th>\n",
       "      <td>Apple pushes Siri overhaul to 2026 after initi...</td>\n",
       "      <td>DIGITIMES Asia</td>\n",
       "      <td>Apple executives have confirmed that the compa...</td>\n",
       "    </tr>\n",
       "  </tbody>\n",
       "</table>\n",
       "</div>"
      ],
      "text/plain": [
       "                                            headline          source  \\\n",
       "0  WWDC: Yes but Siri will get smart one day, but...      Apple Must   \n",
       "1  Apple WWDC Interview: Craig Federighi and Joz ...     Tom's Guide   \n",
       "2  Apple Says Personalized Siri Features Shown at...       MacRumors   \n",
       "3  iOS 26 screenshots could be an intriguing prev...        Engadget   \n",
       "4  Apple pushes Siri overhaul to 2026 after initi...  DIGITIMES Asia   \n",
       "\n",
       "                                               intro  \n",
       "0  At the edge of WWDC 2025 Apple confessed that ...  \n",
       "1  Bottom line. Apple Intelligence is still very ...  \n",
       "2  Apple first announced the personalized Siri fe...  \n",
       "3  But, as someone who takes too many screenshots...  \n",
       "4  Apple executives have confirmed that the compa...  "
      ]
     },
     "execution_count": 91,
     "metadata": {},
     "output_type": "execute_result"
    }
   ],
   "source": [
    "df.head()"
   ]
  },
  {
   "cell_type": "code",
   "execution_count": 89,
   "id": "d6ea6072",
   "metadata": {},
   "outputs": [
    {
     "data": {
      "text/plain": [
       "96"
      ]
     },
     "execution_count": 89,
     "metadata": {},
     "output_type": "execute_result"
    }
   ],
   "source": [
    "len(df)"
   ]
  },
  {
   "cell_type": "code",
   "execution_count": 93,
   "id": "7faeaada",
   "metadata": {},
   "outputs": [
    {
     "name": "stdout",
     "output_type": "stream",
     "text": [
      "<class 'pandas.core.frame.DataFrame'>\n",
      "RangeIndex: 96 entries, 0 to 95\n",
      "Data columns (total 3 columns):\n",
      " #   Column    Non-Null Count  Dtype \n",
      "---  ------    --------------  ----- \n",
      " 0   headline  96 non-null     object\n",
      " 1   source    96 non-null     object\n",
      " 2   intro     96 non-null     object\n",
      "dtypes: object(3)\n",
      "memory usage: 2.4+ KB\n"
     ]
    }
   ],
   "source": [
    "df.info()"
   ]
  },
  {
   "cell_type": "code",
   "execution_count": 134,
   "id": "77d9c556",
   "metadata": {},
   "outputs": [],
   "source": [
    "headlines = (df['headline']+' ').sum() \n",
    "introductions = (df['intro']+' ').sum() \n",
    "headlines += introductions"
   ]
  },
  {
   "cell_type": "code",
   "execution_count": 141,
   "id": "d9ecb9ac",
   "metadata": {},
   "outputs": [],
   "source": [
    "# reaction -> v,n, adj adv\n",
    "import spacy\n",
    "\n",
    "# Load the English Mode\n",
    "nlp = spacy.load(\"en_core_web_sm\")\n",
    "\n",
    "# List of PoS \n",
    "target_pos = [\"NOUN\", \"VERB\", \"ADJ\", \"ADV\"]\n",
    "\n",
    "# Function to extract morphemes \n",
    "def extract_morphemes(text, target_pos):\n",
    "    doc = nlp(text)\n",
    "    return [token.lemma_ for token in doc if token.pos_ in target_pos and not token.is_stop]"
   ]
  },
  {
   "cell_type": "markdown",
   "id": "d43875e3",
   "metadata": {},
   "source": []
  },
  {
   "cell_type": "code",
   "execution_count": 142,
   "id": "0c2a46da",
   "metadata": {},
   "outputs": [
    {
     "name": "stdout",
     "output_type": "stream",
     "text": [
      "['WWDC', 'smart', 'day', 'today', 'say', 'show', 'WWDC', 'year', 'real', 'work', 'push', 'overhaul', 'initial', 'rebuild', 'ios', 'screenshot', 'intriguing', 'preview', 'delay', 'rework', 'WWDC', 'interview', 'video', 'delay', 'new', 'feature', 'unveil', 'new', 'look', 'wait', 'continue', 'big', 'upgrade', 'launch', 'date', 'hard', 'predict', 'delayed', 'WWDC', 'tell', 'future', 'unmentionable', 'word', 'sum', 'battle', 'WWDC', 'analyst', 'confirm', 'attempt', 'good', 'WWDC', 'unveil', 'design', 'get', 'chatgpt', 'support', 'announce', 'glow', 'disappoint', 'debut', 'update', 'WWDC', 'live', 'translation', 'discuss', 'WWDC', 'delay', 'ready', 'apple', 'punt', 'update', 'struggle', 'race', 'infuse', 'spring', 'executive', 'new', 'power', 'demoware', 'ready', 'ship', 'happen', 'accord', 'shuffle', 'iphone', 'year', 'faceplant', 'cost', 'categorically', 'deny', 'vaporware', 'claim', 'video', 'interview', 'WWDC', 'focus', 'fail', 'deliver', 'personalized', 'learn', 'fact', 'upgrade', 'hyped', 'power', 'conspicuously', 'absent', 'event', 'truly', 'smart', 'come', 'spring', 'report', 'claim', 'reportedly', 'target', 'spring', 'launch', 'delayed', 'upgrade', 'late', 'unveil', 'software', 'revamp', 'plan', 'give', 'detailed', 'explanation', 'bungle', 'new', 'improve', 'delay', 'power', 'reportedly', 'new', 'target', 'date', 'stick', 'time', 'upgrade', 'push', 'WWDC', 'silence', 'surround', 'deafen', 'wait', 'upgrade', 'upgrade', 'set', 'stage', 'smart', 'underwhelme', 'explain', 'delay', 'confirm', 'arrive', 'power', 'big', 'upgrade', 'arrive', 'update', 'spring', 'say', 'report', 'wwdc25', 'confirm', 'delay', 'power', 'feature', 'come', 'WWDC', 'announce', 'new', 'os', 'explain', 'upgrade', 'know', 'release', 'window', 'tip', 'new', 'report', 'arrive', 'underwhelm', 'prominent', 'product', 'struggle', 'stark', 'display', 'explain', 'delay', 'tease', 'new', 'feature', 'come', 'WWDC', 'substance', 'work', 'need', 'time', 'come', 'suggest', 'releasing', 'WWDC', 'year', 'WWDC', 'fabrication', 'real', 'functional', 'rollout', 'leave', 'long', 'time', 'fan', 'ask', 'question', 'go', 'wrong', 'explain', 'new', 'siri', 'don', 'upgrade', 'power', 'siri', 'come', 'WWDC', 'admit', 'revamp', 'pull', 'fall', 'short', 'feature', 'WWDC', 'delay', 'admit', 'power', 'work', 'reliably', 'sentence', 'software', 'engineering', 'wipe', 'com', 'ready', 'unveil', 'new', 'look', 'wait', 'continue', 'mission', 'supercharge', 'reportedly', 'target', 'spring', 'launch', 'delayed', 'upgrade', 'late', 'fail', 'clear', 'explain', 'take', 'WWDC', 'highlight', 'app', 'announcement', 'personal', 'come', 'gamble', 'late', 'miss', 'update', 'week', 'unveil', 'big', 'software', 'redesign', 'decade', 'power', 'reportedly', 'new', 'target', 'date', 'stick', 'time', 'upgrade', 'arrive', 'spring', 'stay', 'silent', 'exec', 'reveal', 'reason', 'drive', 'delay', 'WWDC', 'kick', 'today', 'expect', '￼', 'miss', 'delay', 'interview', 'WWDC', 'live', 'watch', 'late', 'development', 'live', 'polished', 'predictable', 'WWDC', 'plan', 'wait', 'ready', 'arrive', 'aim', 'finally', 'roll', 'smart', 'power', 'postpone', 'report', 'delay', 'feature', 'arrive', 'reveal', 'WWDC', 'new', 'personalised', 'ready', 'year', 'announce', 'event', 'fall', 'flat', 'maker', 'struggle', 'miss', 'major', 'thing', 'feature', 'worth', 'time', 'major', 'upgrade', 'announce', 'confirm', 'delay', 'year', 'launch', 'tahoe', 'upgrade', 'expect', 'push', 'update', 'delay', 'explain', 'go', 'software', 'chief', 'reveal', 'delay', 'enhance', 'finally', 'explain', 'delay', 'come', 'WWDC', 'event', 'highlight', 'major', 'update', 'slip', 'report', 'confirm', 'edge', 'confess', 'expect', 'long', 'await', 'contextually', 'aware', 'ship', 'year', 'announce', 'personalized', 'feature', 'keynote', 'new', 'capability', 'include', 'well', 'understanding', 'user', 'personal', 'executive', 'confirm', 'company', 'revamp', 'voice', 'assistant', 'launch', 'originally', 'plan', 'push', 'debut', 'take', 'screenshot', 'day', 'nervous', 'embrace', 'discuss', 'delay', 'rollout', 'advanced', 'feature', 'strategy', 'overhaul', 'line', 'work', 'progress', 'focus', 'deliver', 'promise', 'wide', 'range', 'number', 'announcement', 'annual', 'worldwide', 'developer', 'conference', 'overnight', 'include', 'visual', 'overhaul', 'WWDC', 'say', 'need', 'time', 'develop', 'advanced', 'version', 'sign', 'shift', 'unfold', 'differently', 'set', 'internal', 'release', 'target', 'spring', 'delayed', 'upgrade', 'mark', 'key', 'step', 'artificial', 'intelligence', 'turnaround', 'lack', 'upgrade', 'create', 'potential', 'intelligence', 'gap', 'competitor', 'put', 'pressure', 'future', 'strategy', 'developer', 'conference', 'week', 'refuse', 'talk', 'delay', 'update', 'reveal', 'change', 'help', 'catch', 'late', 'artificial', 'intelligence', 'party', 'analyst', 'say', 'company', 'keynote', 'WWDC', 'software', 'worldwide', 'marketing', 'share', 'detail', 'decision', 'delay', 'live', 'update', 'WWDC', 'unveil', 'new', 'design', 'platform', 'unified', 'upgrade', 'address', 'promise', 'upgrade', 'introduce', 'year', 'WWDC', 'personal', 'feature', 'debut', 'delay', 'year', 'see', 'happy', 'WWDC', 'live', 'translation', 'eweek', 'content', 'product', 'recommendation', 'editorially', 'independent', 'software', 'engineering', 'chief', 'marketing', 'chief', 'go', 'medium', 'tour', 'week', 'pair', 'sit', 'unpack', 'WWDC', 'big', 'reveal', 'struggle', 'generative', 'race', 'company', 'briefly', 'mention', 'release', 'update', 'nearly', 'year', 'announce', 'capable', 'version', 'handful', 'interview', 'follow', 'executive', 'deny', 'year', 'demonstration', 'deny', 'digital', 'chatbot', 'exactly', 'hold', 'place', 'honor', 'year', 'keynote', 'mention', 'week', 'keynote', 'senior', 'vice', 'president', 'software', 'strut', 'stage', 'sound', 'job', 'share', 'nosedive', 'minute', 'WWDC', 'keynote', 'slip', 'thing', 'go', 'south', 'mention', 'deny', 'major', 'mis', 'step', 'show', 'impressive', 'new', 'feature', 'year', 'WWDC', 'doubling', 'focus', 'fail', 'deliver', 'personalized', 'tight', 'lipped', 'power', 'update', 'show', 'year', 'learn', 'key', 'thing', 'avoid', 'mention', 'upgrade', 'year', 'WWDC', 'keynote', 'heavily', 'promote', 'device', 'assistant', 'year', 'event', 'year', 'big', 'software', 'event', 'year', 'raise', 'high', 'expectation', 'major', 'new', 'era', 'update', 'bring', 'massive', 'new', 'potential', 'plan', 'launch', 'big', 'overhaul', 'anticipate', 'upgrade', 'rumor', 'arrive', 'spring', 'new', 'report', 'claim', 'power', 'annual', 'conference', 'developer', 'showcase', 'redesign', 'plan', 'artificial', 'intelligence', 'tool', 'senior', 'vice', 'president', 'software', 'engineering', 'say', 'company', 'work', 'meet', 'customer', 'expectation', 'new', 'improve', 'siri', 'overhauled', 'suppose', 'come', 'year', 'show', 'year', 'WWDC', 'come', 'WWDC', 'announce', 'set', 'significant', 'update', 'operating', 'system', 'include', 'new', 'variant', 'call', 'service', 'software', 'update', 'build', 'introduction', 'track', 'parameter', 'removal', 'private', 'mode', 'feature', 'roll', 'silently', 'report', 'upgrade', 'delay', 'likely', 'roll', 'primary', 'focus', 'WWDC', 'glad', 'take', 'cautious', 'approach', 'year', 'delay', 'major', 'upgrade', 'spotlight', 'competitor', 'advancement', 'user', 'reveal', 'feature', 'lack', 'killer', 'feature', 'leave', 'analyst', 'question', 'competitive', 'edge', 'WWDC', 'speak', 'company', 'delay', 'power', 'siri', 'tease', 'tool', 'able', 'say', 'promise', 'tool', 'announce', 'year', 'ready', 'sign', 'delay', 'update', 'originally', 'promise', 'confirm', 'advanced', 'power', 'feature', 'launch', 'stay', 'date', 'WWDC', 'announcement', 'include', 'late', 'update', 'design', 'change', 'interview', 'executive', 'shed', 'new', 'light', 'overhaul', 'delay', 'failure', 'deliver', 'originally', 'promise', 'real', 'low', 'point', 'know', 'update', 'base', 'promise', 'year', 'delay', 'month', 'WWDC', 'unclear', 'overhauled', 'launch', 'announcement', 'limit', 'incremental', 'feature', 'upgrade', 'grow', 'pressure', 'game', 'competitor', 'issue', 'perfect', 'product', 'quickly', 'benefit', 'advancement', 'fully', 'public', 'eye', 'keynote', 'address', 'big', 'elephant', 'room', 'delay', 'feature', 'announce', 'year', 'ship', 'WWDC', 'drop', 'jaw', 'year', 'barely', 'raise', 'eyebrow', 'overhaul', 'reportedly', 'delay', 'spring', 'new', 'feature', 'promise', 'smart', 'response', 'app', 'control', 'screen', 'awareness', 'executive', 'confirm', 'upgrade', 'year', 'new', 'report', 'reveal', 'version', 'likely', 'come', 'flag', 'underwhelme', 'update', 'delay', 'key', 'disappointment', 'year', 'WWDC', 'say', 'presentation', 'improve', 'smart', 'importantly', 'personalize', 'good', 'apple', 'software', 'chief', 'confirm', 'promise', 'artificial', 'intelligence', 'upgrade', 'delay', 'say', 'company', 'need', 'software', 'head', 'reveal', 'await', 'power', 'upgrade', 'showcase', 'delay', 'long', 'await', 'overhaul', 'slate', 'release', 'spring', 'upgrade', 'assistant', 'expect', 'arrive', 'apple', 'executive', 'talk', 'issue', 'come', 'get', 'right', 'introduce', 'major', 'design', 'refresh', 'operating', 'system', 'dub', 'alongside', 'time', 'provide', 'detailed', 'explanation', 'new', 'power', 'version', 'tease', 'year', 'delay', 'stock', 'plummet', 'WWDC', 'erase', 'market', 'value', 'trigger', 'update', 'initiative', 'particularly', 'darling', 'voice', 'assistant', 'shut', 'keynote', 'number', 'announcement', 'annual', 'worldwide', 'developer', 'conference', 'overnight', 'include', 'visual', 'overhaul', 'lot', 'riding', 'year', 'release', 'deliver', 'sky', 'limit', 'new', 'fall', 'flat', 'look', 'upgrade', 'wait', 'reportedly', 'come', 'spring', 'competition', 'company', 'hardware', 'business', 'model', 'put', 'disadvantage', 'age', 'post', '-', 'wwdc', 'interview', 'head', 'explain', 'anticipated', 'overhaul', 'take', 'stall', 'odd', 'contradiction', 'good', 'marketing', 'game', 'assistant', 'embody', 'display', 'smartphone', 'screen', 'background', 'photo', 'upgrade', 'expect', 'release', 'anytime', 'soon', 'company', 'share', 'news', 'WWDC', 'keynote', 'week', 'big', 'reveal', 'short', 'comeback', 'investor', 'hope', 'hype', 'upgrade', 'month', 'away', 'analyst', 'maker', 'new', 'senior', 'reporter', 'notice', 'hear', 'assistant', 'WWDC', 'keynote', 'tech', 'giant', 'showcase', 'product', 'developer', 'conference', 'WWDC', 'lack', 'news', 'new', 'report', 'give', 'time', 'frame', 'overhaul', 'assistant', 'aim', 'launch', 'upgrade', 'originally', 'preview', 'spring', 'accord', 'address', 'absence', 'major', 'update', 'open', 'keynote', 'WWDC', 'recently', 'unveil', 'WWDC', 'company', 'speak', 'upcoming', 'feature', 'hardly', 'mention', 'WWDC', 'kick', 'pm', 'pm', 'report', 'mean', 'close', 'delay', 'upgrade', 'say', 'early', 'version', 'reliable', 'release', 'know', 'detail', 'sit', 'software', 'chief', 'marketing', 'head', 'talk', 'future', 'hour', 'away', 'development', 'circulate', 'photographer', 'fan', 'watch', 'live', 'expert', 'commentary', 'think', 'maybe', 'eventually', 'suck', 'elephant', 'room', 'little', 'year', 'ago', 'brand', 'announce', 'new', 'singe', 'dancing', 'senior', 'vice', 'president', 'speak', 'new', 'smart', 'version', 'launch', 'impact', 'delay', 'extend', 'software', 'plan', 'smart', 'home', 'hub', 'design', 'run', 'upgrade', 'postpone', 'enhance', 'preview', 'expect', 'launch', 'spring', 'unforeseen', 'delay', 'update', 'typically', 'arrive', 'intend', 'delay', 'feature', 'spring', 'source', 'tell', 'high', 'stake', 'arm', 'race', 'definitely', 'take', 'sweet', 'time', 'recent', 'interview', 'apple', 'plan', 'launch', 'upgrade', 'power', 'separate', 'chatbot', 'reportedly', 'development', 'hint', 'plan', 'smart', 'glass', 'instead', 'get', 'incremental', 'os', 'update', 'afford', 'admit', 'personalised', 'feature', 'announce', 'keynote', 'ready', 'year', 'later', 'investor', 'send', 'share', 'downward', 'unveil', 'minor', 'upgrade', 'keynote', 'pack', 'update', 'firm', 'entire', 'ecosystem', 'boast', 'liquid', 'enhance', 'device', 'redesign', 'core', 'app', 'real', 'time', 'language', 'conversion', 'Read', 'quick', 'rundown', 'roll', 'delay', 'suggest', 'arrive', 'spring', 'beta', 'expect', 'arrive', 'happen', 'expect', 'announce', 'WWDC', 'rename', 'major', 'operating', 'system', 'shift', 'release', 'year', 'base', 'numbering', 'system', 'move', 'siri', 'update', 'delay', 'get', 'candid', 'explanation', 'WWDC', 'wait', 'continue', 'worth', 'head', 'software', 'development', 'finally', 'give', 'detail', 'enhance', 'new', 'version', 'delay', 'kick', 'yesterday', 'usual', 'exec', 'get', 'face', 'time', 'different', 'creator', 'include', 'apple', 'unveil', 'design', 'overhaul', 'live', 'translation', 'take', 'measured', 'approach', 'delay', 'notably', 'absent', 'event', 'major', 'update', 'expect', 'launch', 'later', 'plan']\n"
     ]
    }
   ],
   "source": [
    "headlines_pos = extract_morphemes(headlines, target_pos)\n",
    "print(headlines_pos)"
   ]
  },
  {
   "cell_type": "code",
   "execution_count": 143,
   "id": "539f2e0b",
   "metadata": {},
   "outputs": [
    {
     "name": "stdout",
     "output_type": "stream",
     "text": [
      "[('WWDC', 48), ('delay', 39), ('upgrade', 34), ('year', 31), ('new', 30), ('update', 24), ('feature', 20), ('power', 16), ('spring', 15), ('software', 15), ('launch', 13), ('keynote', 13), ('announce', 12), ('come', 12), ('overhaul', 11), ('time', 11), ('arrive', 11), ('report', 10), ('major', 10), ('smart', 9), ('say', 9), ('unveil', 9), ('confirm', 9), ('plan', 9), ('reveal', 9), ('expect', 9), ('company', 9), ('big', 8), ('explain', 8), ('release', 8)]\n"
     ]
    }
   ],
   "source": [
    "from collections import Counter\n",
    "\n",
    "headlines_counter = Counter(headlines_pos)\n",
    "headlines_most_common = headlines_counter.most_common(30)\n",
    "print(headlines_most_common)"
   ]
  },
  {
   "cell_type": "code",
   "execution_count": null,
   "id": "1fa7ac9d",
   "metadata": {},
   "outputs": [
    {
     "name": "stdout",
     "output_type": "stream",
     "text": [
      "Counter({'delay': 39, 'upgrade': 34, 'update': 24, 'feature': 20, 'power': 16, 'spring': 15, 'software': 15, 'launch': 13, 'keynote': 13, 'announce': 12, 'overhaul': 11, 'smart': 9, 'unveil': 9, 'confirm': 9, 'plan': 9, 'reveal': 9, 'expect': 9, 'company': 9, 'big': 8, 'release': 8, 'promise': 8, 'interview': 7, 'live': 7, 'assistant': 7, 'version': 7, 'wait': 6, 'design': 6, 'executive': 6, 'event': 6, 'late': 6, 'take': 6, 'include': 6, 'work': 5, 'get': 5, 'apple': 5, 'deliver': 5, 'target': 5, 'siri': 5, 'announcement': 5, 'week': 5, 'chief': 5, 'developer': 5, 'conference': 5, 'intelligence': 5, 'mention': 5, 'show': 4, 'real': 4, 'push': 4, 'date': 4, 'delayed': 4, 'analyst': 4, 'struggle': 4, 'deny': 4, 'focus': 4, 'product': 4, 'go': 4, 'development': 4, 'roll': 4, 'enhance': 4, 'originally': 4, 'artificial': 4, 'marketing': 4, 'share': 4, 'senior': 4, 'system': 4, 'head': 4, 'preview': 3, 'look': 3, 'continue': 3, 'future': 3, 'good': 3, 'debut': 3, 'translation': 3, 'race': 3, 'ship': 3, 'claim': 3, 'fail': 3, 'personalized': 3, 'revamp': 3, 'give': 3, 'explanation': 3, 'improve': 3, 'set': 3, 'know': 3, 'tease': 3, 'need': 3, 'admit': 3, 'fall': 3, 'engineering': 3, 'app': 3, 'personal': 3, 'miss': 3, 'redesign': 3, 'kick': 3, 'finally': 3, 'thing': 3, 'await': 3, 'advanced': 3, 'annual': 3, 'worldwide': 3, 'key': 3, 'lack': 3, 'competitor': 3, 'talk': 3, 'detail': 3, 'address': 3, 'vice': 3, 'president': 3, 'showcase': 3, 'tool': 3, 'operating': 3, 'speak': 3, 'day': 2, 'today': 2, 'screenshot': 2, 'video': 2, 'tell': 2, 'discuss': 2, 'happen': 2, 'accord': 2, 'learn': 2, 'absent': 2, 'detailed': 2, 'stick': 2, 'stage': 2, 'underwhelme': 2, 'os': 2, 'display': 2, 'suggest': 2, 'rollout': 2, 'leave': 2, 'fan': 2, 'question': 2, 'short': 2, 'highlight': 2, 'stay': 2, 'exec': 2, 'watch': 2, 'aim': 2, 'postpone': 2, 'personalised': 2, 'flat': 2, 'maker': 2, 'worth': 2, 'slip': 2, 'edge': 2, 'user': 2, 'voice': 2, 'strategy': 2, 'number': 2, 'overnight': 2, 'visual': 2, 'sign': 2, 'shift': 2, 'step': 2, 'potential': 2, 'put': 2, 'pressure': 2, 'change': 2, 'introduce': 2, 'sit': 2, 'chatbot': 2, 'device': 2, 'raise': 2, 'high': 2, 'expectation': 2, 'overhauled': 2, 'likely': 2, 'approach': 2, 'advancement': 2, 'base': 2, 'month': 2, 'limit': 2, 'incremental': 2, 'game': 2, 'issue': 2, 'elephant': 2, 'room': 2, 'screen': 2, 'news': 2, 'investor': 2, 'away': 2, 'pm': 2, 'later': 2, 'initial': 1, 'rebuild': 1, 'ios': 1, 'intriguing': 1, 'rework': 1, 'hard': 1, 'predict': 1, 'unmentionable': 1, 'word': 1, 'sum': 1, 'battle': 1, 'attempt': 1, 'chatgpt': 1, 'support': 1, 'glow': 1, 'disappoint': 1, 'punt': 1, 'infuse': 1, 'demoware': 1, 'shuffle': 1, 'iphone': 1, 'faceplant': 1, 'cost': 1, 'categorically': 1, 'vaporware': 1, 'fact': 1, 'hyped': 1, 'conspicuously': 1, 'truly': 1, 'bungle': 1, 'silence': 1, 'surround': 1, 'deafen': 1, 'wwdc25': 1, 'window': 1, 'tip': 1, 'underwhelm': 1, 'prominent': 1, 'stark': 1, 'substance': 1, 'releasing': 1, 'fabrication': 1, 'functional': 1, 'ask': 1, 'wrong': 1, 'don': 1, 'pull': 1, 'reliably': 1, 'sentence': 1, 'wipe': 1, 'com': 1, 'mission': 1, 'supercharge': 1, 'clear': 1, 'gamble': 1, 'decade': 1, 'silent': 1, 'reason': 1, 'drive': 1, '￼': 1, 'polished': 1, 'predictable': 1, 'tahoe': 1, 'confess': 1, 'contextually': 1, 'aware': 1, 'capability': 1, 'well': 1, 'understanding': 1, 'nervous': 1, 'embrace': 1, 'line': 1, 'progress': 1, 'wide': 1, 'range': 1, 'develop': 1, 'unfold': 1, 'differently': 1, 'internal': 1, 'mark': 1, 'turnaround': 1, 'create': 1, 'gap': 1, 'refuse': 1, 'help': 1, 'catch': 1, 'party': 1, 'decision': 1, 'platform': 1, 'unified': 1, 'see': 1, 'happy': 1, 'eweek': 1, 'content': 1, 'recommendation': 1, 'editorially': 1, 'independent': 1, 'medium': 1, 'tour': 1, 'pair': 1, 'unpack': 1, 'generative': 1, 'briefly': 1, 'nearly': 1, 'capable': 1, 'handful': 1, 'follow': 1, 'demonstration': 1, 'digital': 1, 'exactly': 1, 'hold': 1, 'place': 1, 'honor': 1, 'strut': 1, 'sound': 1, 'job': 1, 'nosedive': 1, 'minute': 1, 'south': 1, 'mis': 1, 'impressive': 1, 'doubling': 1, 'tight': 1, 'lipped': 1, 'avoid': 1, 'heavily': 1, 'promote': 1, 'era': 1, 'bring': 1, 'massive': 1, 'anticipate': 1, 'rumor': 1, 'meet': 1, 'customer': 1, 'suppose': 1, 'significant': 1, 'variant': 1, 'call': 1, 'service': 1, 'build': 1, 'introduction': 1, 'track': 1, 'parameter': 1, 'removal': 1, 'private': 1, 'mode': 1, 'silently': 1, 'primary': 1, 'glad': 1, 'cautious': 1, 'spotlight': 1, 'killer': 1, 'competitive': 1, 'able': 1, 'shed': 1, 'light': 1, 'failure': 1, 'low': 1, 'point': 1, 'unclear': 1, 'grow': 1, 'perfect': 1, 'quickly': 1, 'benefit': 1, 'fully': 1, 'public': 1, 'eye': 1, 'drop': 1, 'jaw': 1, 'barely': 1, 'eyebrow': 1, 'response': 1, 'control': 1, 'awareness': 1, 'flag': 1, 'disappointment': 1, 'presentation': 1, 'importantly': 1, 'personalize': 1, 'slate': 1, 'right': 1, 'refresh': 1, 'dub': 1, 'alongside': 1, 'provide': 1, 'stock': 1, 'plummet': 1, 'erase': 1, 'market': 1, 'value': 1, 'trigger': 1, 'initiative': 1, 'particularly': 1, 'darling': 1, 'shut': 1, 'lot': 1, 'riding': 1, 'sky': 1, 'competition': 1, 'hardware': 1, 'business': 1, 'model': 1, 'disadvantage': 1, 'age': 1, 'post': 1, '-': 1, 'wwdc': 1, 'anticipated': 1, 'stall': 1, 'odd': 1, 'contradiction': 1, 'embody': 1, 'smartphone': 1, 'background': 1, 'photo': 1, 'anytime': 1, 'soon': 1, 'comeback': 1, 'hope': 1, 'hype': 1, 'reporter': 1, 'notice': 1, 'hear': 1, 'tech': 1, 'giant': 1, 'frame': 1, 'absence': 1, 'open': 1, 'recently': 1, 'upcoming': 1, 'hardly': 1, 'mean': 1, 'close': 1, 'early': 1, 'reliable': 1, 'hour': 1, 'circulate': 1, 'photographer': 1, 'expert': 1, 'commentary': 1, 'think': 1, 'maybe': 1, 'eventually': 1, 'suck': 1, 'little': 1, 'ago': 1, 'brand': 1, 'singe': 1, 'dancing': 1, 'impact': 1, 'extend': 1, 'home': 1, 'hub': 1, 'run': 1, 'unforeseen': 1, 'typically': 1, 'intend': 1, 'source': 1, 'stake': 1, 'arm': 1, 'definitely': 1, 'sweet': 1, 'recent': 1, 'separate': 1, 'hint': 1, 'glass': 1, 'instead': 1, 'afford': 1, 'send': 1, 'downward': 1, 'minor': 1, 'pack': 1, 'firm': 1, 'entire': 1, 'ecosystem': 1, 'boast': 1, 'liquid': 1, 'core': 1, 'language': 1, 'conversion': 1, 'Read': 1, 'quick': 1, 'rundown': 1, 'beta': 1, 'rename': 1, 'numbering': 1, 'move': 1, 'candid': 1, 'yesterday': 1, 'usual': 1, 'face': 1, 'different': 1, 'creator': 1, 'measured': 1, 'notably': 1})\n"
     ]
    }
   ],
   "source": [
    "stop_word = ['delay', 'long', 'ready', 'reportedly', 'WWDC', 'new', 'come', 'time', 'year', 'arrive', 'report', 'major', 'say', 'explain']\n",
    "\n",
    "new_list = []\n",
    "for w in headlines_pos:\n",
    "    if w not in stop_word:\n",
    "        new_list.append(w)\n",
    "\n",
    "new_list_count = Counter(new_list)\n",
    "new_list_count.most_common(20)\n",
    "print(new_list_count)"
   ]
  }
 ],
 "metadata": {
  "kernelspec": {
   "display_name": "venv",
   "language": "python",
   "name": "python3"
  },
  "language_info": {
   "codemirror_mode": {
    "name": "ipython",
    "version": 3
   },
   "file_extension": ".py",
   "mimetype": "text/x-python",
   "name": "python",
   "nbconvert_exporter": "python",
   "pygments_lexer": "ipython3",
   "version": "3.12.7"
  }
 },
 "nbformat": 4,
 "nbformat_minor": 5
}
