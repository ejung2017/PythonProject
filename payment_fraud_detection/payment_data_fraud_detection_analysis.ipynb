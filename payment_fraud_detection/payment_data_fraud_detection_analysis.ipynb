{
 "cells": [
  {
   "cell_type": "code",
   "execution_count": 4,
   "id": "b3933821",
   "metadata": {},
   "outputs": [
    {
     "name": "stdout",
     "output_type": "stream",
     "text": [
      "zsh:1: /Users/eunahjung/Documents/PythonProject/.venv/bin/pip: bad interpreter: /Users/eunahjung/Documents/PythonProject/stock_analysis/.venv/bin/python: no such file or directory\n",
      "Requirement already satisfied: seaborn in /opt/anaconda3/lib/python3.12/site-packages (0.13.2)\n",
      "Requirement already satisfied: numpy!=1.24.0,>=1.20 in /opt/anaconda3/lib/python3.12/site-packages (from seaborn) (1.26.4)\n",
      "Requirement already satisfied: pandas>=1.2 in /opt/anaconda3/lib/python3.12/site-packages (from seaborn) (2.2.2)\n",
      "Requirement already satisfied: matplotlib!=3.6.1,>=3.4 in /opt/anaconda3/lib/python3.12/site-packages (from seaborn) (3.9.2)\n",
      "Requirement already satisfied: contourpy>=1.0.1 in /opt/anaconda3/lib/python3.12/site-packages (from matplotlib!=3.6.1,>=3.4->seaborn) (1.2.0)\n",
      "Requirement already satisfied: cycler>=0.10 in /opt/anaconda3/lib/python3.12/site-packages (from matplotlib!=3.6.1,>=3.4->seaborn) (0.11.0)\n",
      "Requirement already satisfied: fonttools>=4.22.0 in /opt/anaconda3/lib/python3.12/site-packages (from matplotlib!=3.6.1,>=3.4->seaborn) (4.51.0)\n",
      "Requirement already satisfied: kiwisolver>=1.3.1 in /opt/anaconda3/lib/python3.12/site-packages (from matplotlib!=3.6.1,>=3.4->seaborn) (1.4.4)\n",
      "Requirement already satisfied: packaging>=20.0 in /opt/anaconda3/lib/python3.12/site-packages (from matplotlib!=3.6.1,>=3.4->seaborn) (24.1)\n",
      "Requirement already satisfied: pillow>=8 in /opt/anaconda3/lib/python3.12/site-packages (from matplotlib!=3.6.1,>=3.4->seaborn) (10.4.0)\n",
      "Requirement already satisfied: pyparsing>=2.3.1 in /opt/anaconda3/lib/python3.12/site-packages (from matplotlib!=3.6.1,>=3.4->seaborn) (3.1.2)\n",
      "Requirement already satisfied: python-dateutil>=2.7 in /opt/anaconda3/lib/python3.12/site-packages (from matplotlib!=3.6.1,>=3.4->seaborn) (2.9.0.post0)\n",
      "Requirement already satisfied: pytz>=2020.1 in /opt/anaconda3/lib/python3.12/site-packages (from pandas>=1.2->seaborn) (2024.1)\n",
      "Requirement already satisfied: tzdata>=2022.7 in /opt/anaconda3/lib/python3.12/site-packages (from pandas>=1.2->seaborn) (2023.3)\n",
      "Requirement already satisfied: six>=1.5 in /opt/anaconda3/lib/python3.12/site-packages (from python-dateutil>=2.7->matplotlib!=3.6.1,>=3.4->seaborn) (1.16.0)\n",
      "zsh:1: /Users/eunahjung/Documents/PythonProject/.venv/bin/pip: bad interpreter: /Users/eunahjung/Documents/PythonProject/stock_analysis/.venv/bin/python: no such file or directory\n",
      "Requirement already satisfied: numpy in /opt/anaconda3/lib/python3.12/site-packages (1.26.4)\n"
     ]
    }
   ],
   "source": [
    "!pip install seaborn\n",
    "!pip install numpy"
   ]
  },
  {
   "cell_type": "code",
   "execution_count": 6,
   "id": "68839e4b",
   "metadata": {},
   "outputs": [],
   "source": [
    "import sys"
   ]
  },
  {
   "cell_type": "code",
   "execution_count": 7,
   "id": "d67ae82e",
   "metadata": {},
   "outputs": [
    {
     "name": "stdout",
     "output_type": "stream",
     "text": [
      "Collecting seaborn\n",
      "  Using cached seaborn-0.13.2-py3-none-any.whl.metadata (5.4 kB)\n",
      "Requirement already satisfied: numpy!=1.24.0,>=1.20 in /Users/eunahjung/Documents/PythonProject/.venv/lib/python3.13/site-packages (from seaborn) (2.3.2)\n",
      "Requirement already satisfied: pandas>=1.2 in /Users/eunahjung/Documents/PythonProject/.venv/lib/python3.13/site-packages (from seaborn) (2.3.1)\n",
      "Requirement already satisfied: matplotlib!=3.6.1,>=3.4 in /Users/eunahjung/Documents/PythonProject/.venv/lib/python3.13/site-packages (from seaborn) (3.10.5)\n",
      "Requirement already satisfied: contourpy>=1.0.1 in /Users/eunahjung/Documents/PythonProject/.venv/lib/python3.13/site-packages (from matplotlib!=3.6.1,>=3.4->seaborn) (1.3.3)\n",
      "Requirement already satisfied: cycler>=0.10 in /Users/eunahjung/Documents/PythonProject/.venv/lib/python3.13/site-packages (from matplotlib!=3.6.1,>=3.4->seaborn) (0.12.1)\n",
      "Requirement already satisfied: fonttools>=4.22.0 in /Users/eunahjung/Documents/PythonProject/.venv/lib/python3.13/site-packages (from matplotlib!=3.6.1,>=3.4->seaborn) (4.59.0)\n",
      "Requirement already satisfied: kiwisolver>=1.3.1 in /Users/eunahjung/Documents/PythonProject/.venv/lib/python3.13/site-packages (from matplotlib!=3.6.1,>=3.4->seaborn) (1.4.8)\n",
      "Requirement already satisfied: packaging>=20.0 in /Users/eunahjung/Documents/PythonProject/.venv/lib/python3.13/site-packages (from matplotlib!=3.6.1,>=3.4->seaborn) (25.0)\n",
      "Requirement already satisfied: pillow>=8 in /Users/eunahjung/Documents/PythonProject/.venv/lib/python3.13/site-packages (from matplotlib!=3.6.1,>=3.4->seaborn) (11.3.0)\n",
      "Requirement already satisfied: pyparsing>=2.3.1 in /Users/eunahjung/Documents/PythonProject/.venv/lib/python3.13/site-packages (from matplotlib!=3.6.1,>=3.4->seaborn) (3.2.3)\n",
      "Requirement already satisfied: python-dateutil>=2.7 in /Users/eunahjung/Documents/PythonProject/.venv/lib/python3.13/site-packages (from matplotlib!=3.6.1,>=3.4->seaborn) (2.9.0.post0)\n",
      "Requirement already satisfied: pytz>=2020.1 in /Users/eunahjung/Documents/PythonProject/.venv/lib/python3.13/site-packages (from pandas>=1.2->seaborn) (2025.2)\n",
      "Requirement already satisfied: tzdata>=2022.7 in /Users/eunahjung/Documents/PythonProject/.venv/lib/python3.13/site-packages (from pandas>=1.2->seaborn) (2025.2)\n",
      "Requirement already satisfied: six>=1.5 in /Users/eunahjung/Documents/PythonProject/.venv/lib/python3.13/site-packages (from python-dateutil>=2.7->matplotlib!=3.6.1,>=3.4->seaborn) (1.17.0)\n",
      "Using cached seaborn-0.13.2-py3-none-any.whl (294 kB)\n",
      "Installing collected packages: seaborn\n",
      "Successfully installed seaborn-0.13.2\n"
     ]
    }
   ],
   "source": [
    "!{sys.executable} -m pip install seaborn"
   ]
  },
  {
   "cell_type": "markdown",
   "id": "3e5688c1",
   "metadata": {},
   "source": [
    "### Requirements"
   ]
  },
  {
   "cell_type": "code",
   "execution_count": null,
   "id": "d7c1e310",
   "metadata": {},
   "outputs": [],
   "source": [
    "import pandas as pd\n",
    "import numpy as np\n",
    "import matplotlib.pyplot as plt\n",
    "import seaborn as sns"
   ]
  },
  {
   "cell_type": "markdown",
   "id": "1c5e4729",
   "metadata": {},
   "source": [
    "### Data Loading (Reading the csv file)"
   ]
  },
  {
   "cell_type": "code",
   "execution_count": null,
   "id": "7c4fc08e",
   "metadata": {},
   "outputs": [
    {
     "data": {
      "text/html": [
       "<div>\n",
       "<style scoped>\n",
       "    .dataframe tbody tr th:only-of-type {\n",
       "        vertical-align: middle;\n",
       "    }\n",
       "\n",
       "    .dataframe tbody tr th {\n",
       "        vertical-align: top;\n",
       "    }\n",
       "\n",
       "    .dataframe thead th {\n",
       "        text-align: right;\n",
       "    }\n",
       "</style>\n",
       "<table border=\"1\" class=\"dataframe\">\n",
       "  <thead>\n",
       "    <tr style=\"text-align: right;\">\n",
       "      <th></th>\n",
       "      <th>Transaction_ID</th>\n",
       "      <th>Customer_ID</th>\n",
       "      <th>Transaction_Date</th>\n",
       "      <th>Transaction_Time</th>\n",
       "      <th>Customer_Age</th>\n",
       "      <th>Customer_Loyalty_Tier</th>\n",
       "      <th>Location</th>\n",
       "      <th>Store_ID</th>\n",
       "      <th>Product_SKU</th>\n",
       "      <th>Product_Category</th>\n",
       "      <th>Purchase_Amount</th>\n",
       "      <th>Payment_Method</th>\n",
       "      <th>Device_Type</th>\n",
       "      <th>IP_Address</th>\n",
       "      <th>Fraud_Flag</th>\n",
       "      <th>Footfall_Count</th>\n",
       "    </tr>\n",
       "  </thead>\n",
       "  <tbody>\n",
       "    <tr>\n",
       "      <th>0</th>\n",
       "      <td>702bdd9b-9c93-41e3-9dbb-a849b2422080</td>\n",
       "      <td>119dca0b-8554-4b2d-9bec-e964eaf6af97</td>\n",
       "      <td>2025-07-27</td>\n",
       "      <td>04:04:15</td>\n",
       "      <td>56.0</td>\n",
       "      <td>Silver</td>\n",
       "      <td>San Francisco</td>\n",
       "      <td>FLAGSHIP-LA</td>\n",
       "      <td>NEBULA-SERUM-07</td>\n",
       "      <td>Concealer</td>\n",
       "      <td>158.24</td>\n",
       "      <td>Mobile Payment</td>\n",
       "      <td>Desktop</td>\n",
       "      <td>239.249.58.237</td>\n",
       "      <td>0</td>\n",
       "      <td>333</td>\n",
       "    </tr>\n",
       "    <tr>\n",
       "      <th>1</th>\n",
       "      <td>2e64c346-36bc-4acf-bc2b-8b0fdf46abc5</td>\n",
       "      <td>299df086-26c4-4708-b6d7-fcaeceb14637</td>\n",
       "      <td>2025-03-14</td>\n",
       "      <td>20:23:23</td>\n",
       "      <td>46.0</td>\n",
       "      <td>Platinum</td>\n",
       "      <td>Zurich</td>\n",
       "      <td>BOUTIQUE-SHANGHAI</td>\n",
       "      <td>STELLAR-FOUND-03</td>\n",
       "      <td>Lipstick</td>\n",
       "      <td>86.03</td>\n",
       "      <td>Credit Card</td>\n",
       "      <td>Tablet</td>\n",
       "      <td>84.49.227.90</td>\n",
       "      <td>0</td>\n",
       "      <td>406</td>\n",
       "    </tr>\n",
       "    <tr>\n",
       "      <th>2</th>\n",
       "      <td>29ad1278-70ce-421f-8d81-23816b39f4ac</td>\n",
       "      <td>dfa3d24d-b935-49a5-aa1d-7d57a44d8773</td>\n",
       "      <td>2025-02-20</td>\n",
       "      <td>12:36:02</td>\n",
       "      <td>32.0</td>\n",
       "      <td>Silver</td>\n",
       "      <td>Milan</td>\n",
       "      <td>POPUP-TOKYO</td>\n",
       "      <td>SOLAR-BLUSH-04</td>\n",
       "      <td>Mascara</td>\n",
       "      <td>255.69</td>\n",
       "      <td>Gift Card</td>\n",
       "      <td>Desktop</td>\n",
       "      <td>79.207.35.55</td>\n",
       "      <td>0</td>\n",
       "      <td>96</td>\n",
       "    </tr>\n",
       "    <tr>\n",
       "      <th>3</th>\n",
       "      <td>07dc4894-e0eb-48f1-99a7-1942b1973d9b</td>\n",
       "      <td>7a67e184-9369-49ee-aeac-18f5b51b230f</td>\n",
       "      <td>2025-04-25</td>\n",
       "      <td>19:09:43</td>\n",
       "      <td>60.0</td>\n",
       "      <td>Bronze</td>\n",
       "      <td>London</td>\n",
       "      <td>BOUTIQUE-NYC</td>\n",
       "      <td>GALAXIA-SET-08</td>\n",
       "      <td>Serum</td>\n",
       "      <td>282.76</td>\n",
       "      <td>Gift Card</td>\n",
       "      <td>Mobile</td>\n",
       "      <td>176.194.167.253</td>\n",
       "      <td>0</td>\n",
       "      <td>186</td>\n",
       "    </tr>\n",
       "    <tr>\n",
       "      <th>4</th>\n",
       "      <td>ae407054-5543-429c-918a-cdcc42ea9782</td>\n",
       "      <td>cf14730a-8f5a-453d-b527-39a278852b27</td>\n",
       "      <td>2025-04-17</td>\n",
       "      <td>14:23:23</td>\n",
       "      <td>NaN</td>\n",
       "      <td>Platinum</td>\n",
       "      <td>Miami</td>\n",
       "      <td>BOUTIQUE-NYC</td>\n",
       "      <td>LUNAR-MASC-02</td>\n",
       "      <td>Serum</td>\n",
       "      <td>205.86</td>\n",
       "      <td>Gift Card</td>\n",
       "      <td>Mobile</td>\n",
       "      <td>166.31.46.111</td>\n",
       "      <td>0</td>\n",
       "      <td>179</td>\n",
       "    </tr>\n",
       "  </tbody>\n",
       "</table>\n",
       "</div>"
      ],
      "text/plain": [
       "                         Transaction_ID                           Customer_ID  \\\n",
       "0  702bdd9b-9c93-41e3-9dbb-a849b2422080  119dca0b-8554-4b2d-9bec-e964eaf6af97   \n",
       "1  2e64c346-36bc-4acf-bc2b-8b0fdf46abc5  299df086-26c4-4708-b6d7-fcaeceb14637   \n",
       "2  29ad1278-70ce-421f-8d81-23816b39f4ac  dfa3d24d-b935-49a5-aa1d-7d57a44d8773   \n",
       "3  07dc4894-e0eb-48f1-99a7-1942b1973d9b  7a67e184-9369-49ee-aeac-18f5b51b230f   \n",
       "4  ae407054-5543-429c-918a-cdcc42ea9782  cf14730a-8f5a-453d-b527-39a278852b27   \n",
       "\n",
       "  Transaction_Date Transaction_Time  Customer_Age Customer_Loyalty_Tier  \\\n",
       "0       2025-07-27         04:04:15          56.0                Silver   \n",
       "1       2025-03-14         20:23:23          46.0              Platinum   \n",
       "2       2025-02-20         12:36:02          32.0                Silver   \n",
       "3       2025-04-25         19:09:43          60.0                Bronze   \n",
       "4       2025-04-17         14:23:23           NaN              Platinum   \n",
       "\n",
       "        Location           Store_ID       Product_SKU Product_Category  \\\n",
       "0  San Francisco        FLAGSHIP-LA   NEBULA-SERUM-07        Concealer   \n",
       "1         Zurich  BOUTIQUE-SHANGHAI  STELLAR-FOUND-03         Lipstick   \n",
       "2          Milan        POPUP-TOKYO    SOLAR-BLUSH-04          Mascara   \n",
       "3         London       BOUTIQUE-NYC    GALAXIA-SET-08            Serum   \n",
       "4          Miami       BOUTIQUE-NYC     LUNAR-MASC-02            Serum   \n",
       "\n",
       "   Purchase_Amount  Payment_Method Device_Type       IP_Address  Fraud_Flag  \\\n",
       "0           158.24  Mobile Payment     Desktop   239.249.58.237           0   \n",
       "1            86.03     Credit Card      Tablet     84.49.227.90           0   \n",
       "2           255.69       Gift Card     Desktop     79.207.35.55           0   \n",
       "3           282.76       Gift Card      Mobile  176.194.167.253           0   \n",
       "4           205.86       Gift Card      Mobile    166.31.46.111           0   \n",
       "\n",
       "   Footfall_Count  \n",
       "0             333  \n",
       "1             406  \n",
       "2              96  \n",
       "3             186  \n",
       "4             179  "
      ]
     },
     "execution_count": 7,
     "metadata": {},
     "output_type": "execute_result"
    }
   ],
   "source": [
    "file = pd.read_csv('payment_fraud_detection/luxury_cosmetics_fraud_analysis_2025.csv')\n",
    "\n",
    "file.head()"
   ]
  },
  {
   "cell_type": "code",
   "execution_count": 8,
   "id": "a76fe431",
   "metadata": {},
   "outputs": [
    {
     "name": "stdout",
     "output_type": "stream",
     "text": [
      "<class 'pandas.core.frame.DataFrame'>\n",
      "RangeIndex: 2133 entries, 0 to 2132\n",
      "Data columns (total 16 columns):\n",
      " #   Column                 Non-Null Count  Dtype  \n",
      "---  ------                 --------------  -----  \n",
      " 0   Transaction_ID         2133 non-null   object \n",
      " 1   Customer_ID            2133 non-null   object \n",
      " 2   Transaction_Date       2133 non-null   object \n",
      " 3   Transaction_Time       2133 non-null   object \n",
      " 4   Customer_Age           2027 non-null   float64\n",
      " 5   Customer_Loyalty_Tier  2027 non-null   object \n",
      " 6   Location               2133 non-null   object \n",
      " 7   Store_ID               2133 non-null   object \n",
      " 8   Product_SKU            2133 non-null   object \n",
      " 9   Product_Category       2133 non-null   object \n",
      " 10  Purchase_Amount        2133 non-null   float64\n",
      " 11  Payment_Method         2027 non-null   object \n",
      " 12  Device_Type            2133 non-null   object \n",
      " 13  IP_Address             2133 non-null   object \n",
      " 14  Fraud_Flag             2133 non-null   int64  \n",
      " 15  Footfall_Count         2133 non-null   int64  \n",
      "dtypes: float64(2), int64(2), object(12)\n",
      "memory usage: 266.8+ KB\n"
     ]
    }
   ],
   "source": [
    "file.info()"
   ]
  },
  {
   "cell_type": "markdown",
   "id": "5224b1aa",
   "metadata": {},
   "source": [
    "### Exploratory Data Analysis"
   ]
  },
  {
   "cell_type": "code",
   "execution_count": null,
   "id": "21b36156",
   "metadata": {},
   "outputs": [],
   "source": []
  }
 ],
 "metadata": {
  "kernelspec": {
   "display_name": ".venv",
   "language": "python",
   "name": "python3"
  },
  "language_info": {
   "codemirror_mode": {
    "name": "ipython",
    "version": 3
   },
   "file_extension": ".py",
   "mimetype": "text/x-python",
   "name": "python",
   "nbconvert_exporter": "python",
   "pygments_lexer": "ipython3",
   "version": "3.13.0"
  }
 },
 "nbformat": 4,
 "nbformat_minor": 5
}
